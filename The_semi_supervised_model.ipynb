{
  "nbformat": 4,
  "nbformat_minor": 0,
  "metadata": {
    "colab": {
      "name": "The semi-supervised model.ipynb",
      "provenance": [],
      "collapsed_sections": [
        "78wbQeSfDTc9"
      ]
    },
    "kernelspec": {
      "name": "python3",
      "display_name": "Python 3"
    },
    "language_info": {
      "name": "python"
    }
  },
  "cells": [
    {
      "cell_type": "markdown",
      "metadata": {
        "id": "78wbQeSfDTc9"
      },
      "source": [
        "# **Network IPS with enhancements for DDoS attack detection**\n",
        "\n",
        "In this project we are trying to build a network intrusion prevention system to detect different kinds of attacks on the SDN controller specially DDoS attacks. We used both machine and deep learning algorithms to build a better system.\n",
        "\n",
        "The following are the detailed steps and code explaining the whole system.\n"
      ]
    },
    {
      "cell_type": "markdown",
      "metadata": {
        "id": "k9PEKTK6_EIU"
      },
      "source": [
        "# ***1) Importing needed libraries***\n",
        "We thought it best to collect all used python libraries in one section instead of just leaving them sparsed in the whole project to be imported all at once."
      ]
    },
    {
      "cell_type": "code",
      "metadata": {
        "colab": {
          "base_uri": "https://localhost:8080/"
        },
        "id": "Ax-GQKFG6Hdx",
        "outputId": "7cd047c2-42ab-42af-97af-96f0f3600894"
      },
      "source": [
        "%matplotlib inline\n",
        "# Start Python Imports\n",
        "import math, time, random, datetime\n",
        "\n",
        "# Data Manipulation\n",
        "import numpy as np\n",
        "import pandas as pd\n",
        "from numpy import mean\n",
        "from numpy import std\n",
        "import pickle\n",
        "\n",
        "# Visualization \n",
        "import matplotlib.pyplot as plt\n",
        "\n",
        "#import missingno\n",
        "import seaborn as sn\n",
        "plt.style.use('seaborn-whitegrid')\n",
        "\n",
        "# Preprocessing\n",
        "from sklearn.preprocessing import OneHotEncoder, LabelEncoder, label_binarize\n",
        "\n",
        "# Machine learning\n",
        "from sklearn.model_selection import train_test_split\n",
        "from sklearn import model_selection, tree, preprocessing, metrics, linear_model\n",
        "from sklearn.ensemble import GradientBoostingClassifier\n",
        "from sklearn.naive_bayes import GaussianNB\n",
        "from sklearn.linear_model import LogisticRegression\n",
        "from sklearn.tree import DecisionTreeClassifier\n",
        "from sklearn.ensemble import RandomForestClassifier\n",
        "from sklearn.metrics import accuracy_score,f1_score,classification_report,confusion_matrix\n",
        "from sklearn.manifold import TSNE\n",
        "from scipy import stats\n",
        "from sklearn.metrics import confusion_matrix\n",
        "from sklearn.model_selection import KFold, StratifiedKFold, train_test_split, cross_validate, cross_val_score\n",
        "from sklearn.datasets import load_iris, load_boston\n",
        "from sklearn.metrics import accuracy_score, classification_report\n",
        "from sklearn.preprocessing import MinMaxScaler\n",
        "from sklearn.preprocessing import StandardScaler\n",
        "from sklearn.svm import SVC\n",
        "from collections import defaultdict\n",
        "!pip install category_encoders\n",
        "import category_encoders as ce\n",
        "\n",
        "\n",
        "# Deep learning libraries\n",
        "import keras\n",
        "from keras import layers\n",
        "from keras import Model\n",
        "from keras.optimizers import RMSprop\n",
        "import tensorflow as tf\n",
        "from tensorflow.keras import regularizers\n",
        "from tensorflow.keras import initializers\n",
        "from keras.layers import Input\n",
        "from keras.layers import Dense\n",
        "from keras.models import Model\n",
        "from keras.callbacks import TensorBoard\n",
        "from keras import backend as K\n",
        "#from keras.utils import plot_model\n",
        "\n",
        "# Let's be rebels and ignore warnings for now\n",
        "import warnings\n",
        "warnings.filterwarnings('ignore')\n",
        "\n",
        "# To import dataset files from google drive into google colab\n",
        "from google.colab import drive\n",
        "drive.mount('/content/drive')\n",
        "\n",
        "\n"
      ],
      "execution_count": null,
      "outputs": [
        {
          "output_type": "stream",
          "text": [
            "Requirement already satisfied: category_encoders in /usr/local/lib/python3.7/dist-packages (2.2.2)\n",
            "Requirement already satisfied: scikit-learn>=0.20.0 in /usr/local/lib/python3.7/dist-packages (from category_encoders) (0.22.2.post1)\n",
            "Requirement already satisfied: scipy>=1.0.0 in /usr/local/lib/python3.7/dist-packages (from category_encoders) (1.4.1)\n",
            "Requirement already satisfied: statsmodels>=0.9.0 in /usr/local/lib/python3.7/dist-packages (from category_encoders) (0.10.2)\n",
            "Requirement already satisfied: patsy>=0.5.1 in /usr/local/lib/python3.7/dist-packages (from category_encoders) (0.5.1)\n",
            "Requirement already satisfied: numpy>=1.14.0 in /usr/local/lib/python3.7/dist-packages (from category_encoders) (1.19.5)\n",
            "Requirement already satisfied: pandas>=0.21.1 in /usr/local/lib/python3.7/dist-packages (from category_encoders) (1.1.5)\n",
            "Requirement already satisfied: joblib>=0.11 in /usr/local/lib/python3.7/dist-packages (from scikit-learn>=0.20.0->category_encoders) (1.0.1)\n",
            "Requirement already satisfied: six in /usr/local/lib/python3.7/dist-packages (from patsy>=0.5.1->category_encoders) (1.15.0)\n",
            "Requirement already satisfied: python-dateutil>=2.7.3 in /usr/local/lib/python3.7/dist-packages (from pandas>=0.21.1->category_encoders) (2.8.1)\n",
            "Requirement already satisfied: pytz>=2017.2 in /usr/local/lib/python3.7/dist-packages (from pandas>=0.21.1->category_encoders) (2018.9)\n",
            "Drive already mounted at /content/drive; to attempt to forcibly remount, call drive.mount(\"/content/drive\", force_remount=True).\n"
          ],
          "name": "stdout"
        }
      ]
    },
    {
      "cell_type": "markdown",
      "metadata": {
        "id": "tlUJBCsT_slm"
      },
      "source": [
        "# ***2) Data preprocessing and visualizing***\n",
        "\n",
        "In this section we import data files used for training and testing the model. Then, we apply multiple operations on data such as: filling nulls, removing outlayers and encoding (label,hashing).\n",
        "We also take a closer look at the used data and analyze it using some graphs.\n",
        "\n",
        "We used The (UNSW_NB15) dataset for training and testing the model. You can find more about it and download it from the following link (https://www.kaggle.com/mrwellsdavid/unsw-nb15)\n",
        "\n"
      ]
    },
    {
      "cell_type": "code",
      "metadata": {
        "id": "Anpl9Lxh8kgw",
        "colab": {
          "base_uri": "https://localhost:8080/",
          "height": 241
        },
        "outputId": "7075f670-09d7-4559-b1c8-6f6313384f25"
      },
      "source": [
        "# Reading data files \n",
        "df1 = pd.read_csv('/content/drive/MyDrive/Dataset/UNSW-NB15_1.csv')\n",
        "df2 = pd.read_csv('/content/drive/MyDrive/Dataset/UNSW-NB15_2.csv')\n",
        "df3 = pd.read_csv('/content/drive/MyDrive/Dataset/UNSW-NB15_3.csv')\n",
        "df4 = pd.read_csv('/content/drive/MyDrive/Dataset/UNSW-NB15_4.csv')\n",
        "\n",
        "# Adding columns names to data\n",
        "columns=['srcip','sport','dstip','dsport','proto','state','dur','sbytes','dbytes','sttl', 'dttl', 'sloss', 'dloss','service', 'sload','dload','spkts','dpkts','swin','dwin','stcpb','dtcpb','smeansz','dmeansz','trans_depth','res_bdy_len', 'sjit','djit', 'stime','ltime','sintpkt','dintpkt','tcprtt','synack','ackdat','is_sm_ips_ports','ct_state_ttl','ct_flw_http_mthd' ,'is_ftp_login','ct_ftp_cmd','ct_srv_src','ct_srv_dst','ct_dst_ltm','ct_src_ ltm','ct_src_dport_ltm','ct_dst_sport_ltm','ct_dst_src_ltm','attack_cat','label']\n",
        "df1.columns = columns\n",
        "df2.columns = columns\n",
        "df3.columns = columns\n",
        "df4.columns = columns\n",
        "\n",
        "# Combining all files in one file called (data).\n",
        "dfs = [ df1, df2, df3, df4]\n",
        "data = pd.concat(dfs).reset_index()\n",
        "data.drop('index',axis=1,inplace=True)\n",
        "\n",
        "data.head()\n",
        "\n"
      ],
      "execution_count": null,
      "outputs": [
        {
          "output_type": "execute_result",
          "data": {
            "text/html": [
              "<div>\n",
              "<style scoped>\n",
              "    .dataframe tbody tr th:only-of-type {\n",
              "        vertical-align: middle;\n",
              "    }\n",
              "\n",
              "    .dataframe tbody tr th {\n",
              "        vertical-align: top;\n",
              "    }\n",
              "\n",
              "    .dataframe thead th {\n",
              "        text-align: right;\n",
              "    }\n",
              "</style>\n",
              "<table border=\"1\" class=\"dataframe\">\n",
              "  <thead>\n",
              "    <tr style=\"text-align: right;\">\n",
              "      <th></th>\n",
              "      <th>srcip</th>\n",
              "      <th>sport</th>\n",
              "      <th>dstip</th>\n",
              "      <th>dsport</th>\n",
              "      <th>proto</th>\n",
              "      <th>state</th>\n",
              "      <th>dur</th>\n",
              "      <th>sbytes</th>\n",
              "      <th>dbytes</th>\n",
              "      <th>sttl</th>\n",
              "      <th>dttl</th>\n",
              "      <th>sloss</th>\n",
              "      <th>dloss</th>\n",
              "      <th>service</th>\n",
              "      <th>sload</th>\n",
              "      <th>dload</th>\n",
              "      <th>spkts</th>\n",
              "      <th>dpkts</th>\n",
              "      <th>swin</th>\n",
              "      <th>dwin</th>\n",
              "      <th>stcpb</th>\n",
              "      <th>dtcpb</th>\n",
              "      <th>smeansz</th>\n",
              "      <th>dmeansz</th>\n",
              "      <th>trans_depth</th>\n",
              "      <th>res_bdy_len</th>\n",
              "      <th>sjit</th>\n",
              "      <th>djit</th>\n",
              "      <th>stime</th>\n",
              "      <th>ltime</th>\n",
              "      <th>sintpkt</th>\n",
              "      <th>dintpkt</th>\n",
              "      <th>tcprtt</th>\n",
              "      <th>synack</th>\n",
              "      <th>ackdat</th>\n",
              "      <th>is_sm_ips_ports</th>\n",
              "      <th>ct_state_ttl</th>\n",
              "      <th>ct_flw_http_mthd</th>\n",
              "      <th>is_ftp_login</th>\n",
              "      <th>ct_ftp_cmd</th>\n",
              "      <th>ct_srv_src</th>\n",
              "      <th>ct_srv_dst</th>\n",
              "      <th>ct_dst_ltm</th>\n",
              "      <th>ct_src_ ltm</th>\n",
              "      <th>ct_src_dport_ltm</th>\n",
              "      <th>ct_dst_sport_ltm</th>\n",
              "      <th>ct_dst_src_ltm</th>\n",
              "      <th>attack_cat</th>\n",
              "      <th>label</th>\n",
              "    </tr>\n",
              "  </thead>\n",
              "  <tbody>\n",
              "    <tr>\n",
              "      <th>0</th>\n",
              "      <td>59.166.0.0</td>\n",
              "      <td>33661</td>\n",
              "      <td>149.171.126.9</td>\n",
              "      <td>1024</td>\n",
              "      <td>udp</td>\n",
              "      <td>CON</td>\n",
              "      <td>0.036133</td>\n",
              "      <td>528</td>\n",
              "      <td>304</td>\n",
              "      <td>31</td>\n",
              "      <td>29</td>\n",
              "      <td>0</td>\n",
              "      <td>0</td>\n",
              "      <td>-</td>\n",
              "      <td>87676.08594</td>\n",
              "      <td>50480.17188</td>\n",
              "      <td>4</td>\n",
              "      <td>4</td>\n",
              "      <td>0</td>\n",
              "      <td>0</td>\n",
              "      <td>0</td>\n",
              "      <td>0</td>\n",
              "      <td>132</td>\n",
              "      <td>76</td>\n",
              "      <td>0</td>\n",
              "      <td>0</td>\n",
              "      <td>9.891010</td>\n",
              "      <td>10.682733</td>\n",
              "      <td>1421927414</td>\n",
              "      <td>1421927414</td>\n",
              "      <td>7.005</td>\n",
              "      <td>7.564333</td>\n",
              "      <td>0.0</td>\n",
              "      <td>0.0</td>\n",
              "      <td>0.0</td>\n",
              "      <td>0</td>\n",
              "      <td>0</td>\n",
              "      <td>0.0</td>\n",
              "      <td>0.0</td>\n",
              "      <td>0</td>\n",
              "      <td>2</td>\n",
              "      <td>4</td>\n",
              "      <td>2</td>\n",
              "      <td>3</td>\n",
              "      <td>1</td>\n",
              "      <td>1</td>\n",
              "      <td>2</td>\n",
              "      <td>NaN</td>\n",
              "      <td>0</td>\n",
              "    </tr>\n",
              "    <tr>\n",
              "      <th>1</th>\n",
              "      <td>59.166.0.6</td>\n",
              "      <td>1464</td>\n",
              "      <td>149.171.126.7</td>\n",
              "      <td>53</td>\n",
              "      <td>udp</td>\n",
              "      <td>CON</td>\n",
              "      <td>0.001119</td>\n",
              "      <td>146</td>\n",
              "      <td>178</td>\n",
              "      <td>31</td>\n",
              "      <td>29</td>\n",
              "      <td>0</td>\n",
              "      <td>0</td>\n",
              "      <td>dns</td>\n",
              "      <td>521894.53130</td>\n",
              "      <td>636282.37500</td>\n",
              "      <td>2</td>\n",
              "      <td>2</td>\n",
              "      <td>0</td>\n",
              "      <td>0</td>\n",
              "      <td>0</td>\n",
              "      <td>0</td>\n",
              "      <td>73</td>\n",
              "      <td>89</td>\n",
              "      <td>0</td>\n",
              "      <td>0</td>\n",
              "      <td>0.000000</td>\n",
              "      <td>0.000000</td>\n",
              "      <td>1421927414</td>\n",
              "      <td>1421927414</td>\n",
              "      <td>0.017</td>\n",
              "      <td>0.013000</td>\n",
              "      <td>0.0</td>\n",
              "      <td>0.0</td>\n",
              "      <td>0.0</td>\n",
              "      <td>0</td>\n",
              "      <td>0</td>\n",
              "      <td>0.0</td>\n",
              "      <td>0.0</td>\n",
              "      <td>0</td>\n",
              "      <td>12</td>\n",
              "      <td>8</td>\n",
              "      <td>1</td>\n",
              "      <td>2</td>\n",
              "      <td>2</td>\n",
              "      <td>1</td>\n",
              "      <td>1</td>\n",
              "      <td>NaN</td>\n",
              "      <td>0</td>\n",
              "    </tr>\n",
              "    <tr>\n",
              "      <th>2</th>\n",
              "      <td>59.166.0.5</td>\n",
              "      <td>3593</td>\n",
              "      <td>149.171.126.5</td>\n",
              "      <td>53</td>\n",
              "      <td>udp</td>\n",
              "      <td>CON</td>\n",
              "      <td>0.001209</td>\n",
              "      <td>132</td>\n",
              "      <td>164</td>\n",
              "      <td>31</td>\n",
              "      <td>29</td>\n",
              "      <td>0</td>\n",
              "      <td>0</td>\n",
              "      <td>dns</td>\n",
              "      <td>436724.56250</td>\n",
              "      <td>542597.18750</td>\n",
              "      <td>2</td>\n",
              "      <td>2</td>\n",
              "      <td>0</td>\n",
              "      <td>0</td>\n",
              "      <td>0</td>\n",
              "      <td>0</td>\n",
              "      <td>66</td>\n",
              "      <td>82</td>\n",
              "      <td>0</td>\n",
              "      <td>0</td>\n",
              "      <td>0.000000</td>\n",
              "      <td>0.000000</td>\n",
              "      <td>1421927414</td>\n",
              "      <td>1421927414</td>\n",
              "      <td>0.043</td>\n",
              "      <td>0.014000</td>\n",
              "      <td>0.0</td>\n",
              "      <td>0.0</td>\n",
              "      <td>0.0</td>\n",
              "      <td>0</td>\n",
              "      <td>0</td>\n",
              "      <td>0.0</td>\n",
              "      <td>0.0</td>\n",
              "      <td>0</td>\n",
              "      <td>6</td>\n",
              "      <td>9</td>\n",
              "      <td>1</td>\n",
              "      <td>1</td>\n",
              "      <td>1</td>\n",
              "      <td>1</td>\n",
              "      <td>1</td>\n",
              "      <td>NaN</td>\n",
              "      <td>0</td>\n",
              "    </tr>\n",
              "    <tr>\n",
              "      <th>3</th>\n",
              "      <td>59.166.0.3</td>\n",
              "      <td>49664</td>\n",
              "      <td>149.171.126.0</td>\n",
              "      <td>53</td>\n",
              "      <td>udp</td>\n",
              "      <td>CON</td>\n",
              "      <td>0.001169</td>\n",
              "      <td>146</td>\n",
              "      <td>178</td>\n",
              "      <td>31</td>\n",
              "      <td>29</td>\n",
              "      <td>0</td>\n",
              "      <td>0</td>\n",
              "      <td>dns</td>\n",
              "      <td>499572.25000</td>\n",
              "      <td>609067.56250</td>\n",
              "      <td>2</td>\n",
              "      <td>2</td>\n",
              "      <td>0</td>\n",
              "      <td>0</td>\n",
              "      <td>0</td>\n",
              "      <td>0</td>\n",
              "      <td>73</td>\n",
              "      <td>89</td>\n",
              "      <td>0</td>\n",
              "      <td>0</td>\n",
              "      <td>0.000000</td>\n",
              "      <td>0.000000</td>\n",
              "      <td>1421927414</td>\n",
              "      <td>1421927414</td>\n",
              "      <td>0.005</td>\n",
              "      <td>0.003000</td>\n",
              "      <td>0.0</td>\n",
              "      <td>0.0</td>\n",
              "      <td>0.0</td>\n",
              "      <td>0</td>\n",
              "      <td>0</td>\n",
              "      <td>0.0</td>\n",
              "      <td>0.0</td>\n",
              "      <td>0</td>\n",
              "      <td>7</td>\n",
              "      <td>9</td>\n",
              "      <td>1</td>\n",
              "      <td>1</td>\n",
              "      <td>1</td>\n",
              "      <td>1</td>\n",
              "      <td>1</td>\n",
              "      <td>NaN</td>\n",
              "      <td>0</td>\n",
              "    </tr>\n",
              "    <tr>\n",
              "      <th>4</th>\n",
              "      <td>59.166.0.0</td>\n",
              "      <td>32119</td>\n",
              "      <td>149.171.126.9</td>\n",
              "      <td>111</td>\n",
              "      <td>udp</td>\n",
              "      <td>CON</td>\n",
              "      <td>0.078339</td>\n",
              "      <td>568</td>\n",
              "      <td>312</td>\n",
              "      <td>31</td>\n",
              "      <td>29</td>\n",
              "      <td>0</td>\n",
              "      <td>0</td>\n",
              "      <td>-</td>\n",
              "      <td>43503.23438</td>\n",
              "      <td>23896.14258</td>\n",
              "      <td>4</td>\n",
              "      <td>4</td>\n",
              "      <td>0</td>\n",
              "      <td>0</td>\n",
              "      <td>0</td>\n",
              "      <td>0</td>\n",
              "      <td>142</td>\n",
              "      <td>78</td>\n",
              "      <td>0</td>\n",
              "      <td>0</td>\n",
              "      <td>29.682221</td>\n",
              "      <td>34.370340</td>\n",
              "      <td>1421927414</td>\n",
              "      <td>1421927414</td>\n",
              "      <td>21.003</td>\n",
              "      <td>24.315000</td>\n",
              "      <td>0.0</td>\n",
              "      <td>0.0</td>\n",
              "      <td>0.0</td>\n",
              "      <td>0</td>\n",
              "      <td>0</td>\n",
              "      <td>0.0</td>\n",
              "      <td>0.0</td>\n",
              "      <td>0</td>\n",
              "      <td>2</td>\n",
              "      <td>4</td>\n",
              "      <td>2</td>\n",
              "      <td>3</td>\n",
              "      <td>1</td>\n",
              "      <td>1</td>\n",
              "      <td>2</td>\n",
              "      <td>NaN</td>\n",
              "      <td>0</td>\n",
              "    </tr>\n",
              "  </tbody>\n",
              "</table>\n",
              "</div>"
            ],
            "text/plain": [
              "        srcip  sport          dstip  ... ct_dst_src_ltm attack_cat label\n",
              "0  59.166.0.0  33661  149.171.126.9  ...              2        NaN     0\n",
              "1  59.166.0.6   1464  149.171.126.7  ...              1        NaN     0\n",
              "2  59.166.0.5   3593  149.171.126.5  ...              1        NaN     0\n",
              "3  59.166.0.3  49664  149.171.126.0  ...              1        NaN     0\n",
              "4  59.166.0.0  32119  149.171.126.9  ...              2        NaN     0\n",
              "\n",
              "[5 rows x 49 columns]"
            ]
          },
          "metadata": {
            "tags": []
          },
          "execution_count": 20
        }
      ]
    },
    {
      "cell_type": "code",
      "metadata": {
        "colab": {
          "base_uri": "https://localhost:8080/"
        },
        "id": "aDdTh9t9-w7K",
        "outputId": "a3b0c507-14ca-454d-a55f-5e8d0c311c0e"
      },
      "source": [
        "# Finding missing values in the dataset\n",
        "data.isnull().sum().sort_values(ascending=False)[0:5]"
      ],
      "execution_count": null,
      "outputs": [
        {
          "output_type": "execute_result",
          "data": {
            "text/plain": [
              "attack_cat          2218760\n",
              "is_ftp_login        1429877\n",
              "ct_flw_http_mthd    1348143\n",
              "label                     0\n",
              "sloss                     0\n",
              "dtype: int64"
            ]
          },
          "metadata": {
            "tags": []
          },
          "execution_count": 21
        }
      ]
    },
    {
      "cell_type": "code",
      "metadata": {
        "colab": {
          "base_uri": "https://localhost:8080/",
          "height": 456
        },
        "id": "9uDNEnTY-5vt",
        "outputId": "362fa1d5-a8b1-4dd3-9a4e-ef5997c31697"
      },
      "source": [
        "# Finding number of attack samples in the dataset\n",
        "data.query('label == 1')"
      ],
      "execution_count": null,
      "outputs": [
        {
          "output_type": "execute_result",
          "data": {
            "text/html": [
              "<div>\n",
              "<style scoped>\n",
              "    .dataframe tbody tr th:only-of-type {\n",
              "        vertical-align: middle;\n",
              "    }\n",
              "\n",
              "    .dataframe tbody tr th {\n",
              "        vertical-align: top;\n",
              "    }\n",
              "\n",
              "    .dataframe thead th {\n",
              "        text-align: right;\n",
              "    }\n",
              "</style>\n",
              "<table border=\"1\" class=\"dataframe\">\n",
              "  <thead>\n",
              "    <tr style=\"text-align: right;\">\n",
              "      <th></th>\n",
              "      <th>srcip</th>\n",
              "      <th>sport</th>\n",
              "      <th>dstip</th>\n",
              "      <th>dsport</th>\n",
              "      <th>proto</th>\n",
              "      <th>state</th>\n",
              "      <th>dur</th>\n",
              "      <th>sbytes</th>\n",
              "      <th>dbytes</th>\n",
              "      <th>sttl</th>\n",
              "      <th>dttl</th>\n",
              "      <th>sloss</th>\n",
              "      <th>dloss</th>\n",
              "      <th>service</th>\n",
              "      <th>sload</th>\n",
              "      <th>dload</th>\n",
              "      <th>spkts</th>\n",
              "      <th>dpkts</th>\n",
              "      <th>swin</th>\n",
              "      <th>dwin</th>\n",
              "      <th>stcpb</th>\n",
              "      <th>dtcpb</th>\n",
              "      <th>smeansz</th>\n",
              "      <th>dmeansz</th>\n",
              "      <th>trans_depth</th>\n",
              "      <th>res_bdy_len</th>\n",
              "      <th>sjit</th>\n",
              "      <th>djit</th>\n",
              "      <th>stime</th>\n",
              "      <th>ltime</th>\n",
              "      <th>sintpkt</th>\n",
              "      <th>dintpkt</th>\n",
              "      <th>tcprtt</th>\n",
              "      <th>synack</th>\n",
              "      <th>ackdat</th>\n",
              "      <th>is_sm_ips_ports</th>\n",
              "      <th>ct_state_ttl</th>\n",
              "      <th>ct_flw_http_mthd</th>\n",
              "      <th>is_ftp_login</th>\n",
              "      <th>ct_ftp_cmd</th>\n",
              "      <th>ct_srv_src</th>\n",
              "      <th>ct_srv_dst</th>\n",
              "      <th>ct_dst_ltm</th>\n",
              "      <th>ct_src_ ltm</th>\n",
              "      <th>ct_src_dport_ltm</th>\n",
              "      <th>ct_dst_sport_ltm</th>\n",
              "      <th>ct_dst_src_ltm</th>\n",
              "      <th>attack_cat</th>\n",
              "      <th>label</th>\n",
              "    </tr>\n",
              "  </thead>\n",
              "  <tbody>\n",
              "    <tr>\n",
              "      <th>19</th>\n",
              "      <td>175.45.176.3</td>\n",
              "      <td>21223</td>\n",
              "      <td>149.171.126.18</td>\n",
              "      <td>32780</td>\n",
              "      <td>udp</td>\n",
              "      <td>INT</td>\n",
              "      <td>0.000021</td>\n",
              "      <td>728</td>\n",
              "      <td>0</td>\n",
              "      <td>254</td>\n",
              "      <td>0</td>\n",
              "      <td>0</td>\n",
              "      <td>0</td>\n",
              "      <td>-</td>\n",
              "      <td>1.386667e+08</td>\n",
              "      <td>0.000000</td>\n",
              "      <td>2</td>\n",
              "      <td>0</td>\n",
              "      <td>0</td>\n",
              "      <td>0</td>\n",
              "      <td>0</td>\n",
              "      <td>0</td>\n",
              "      <td>364</td>\n",
              "      <td>0</td>\n",
              "      <td>0</td>\n",
              "      <td>0</td>\n",
              "      <td>0.000000</td>\n",
              "      <td>0.000000</td>\n",
              "      <td>1421927415</td>\n",
              "      <td>1421927415</td>\n",
              "      <td>0.021000</td>\n",
              "      <td>0.000000</td>\n",
              "      <td>0.000000</td>\n",
              "      <td>0.000000</td>\n",
              "      <td>0.000000</td>\n",
              "      <td>0</td>\n",
              "      <td>2</td>\n",
              "      <td>0.0</td>\n",
              "      <td>0.0</td>\n",
              "      <td>0</td>\n",
              "      <td>1</td>\n",
              "      <td>1</td>\n",
              "      <td>1</td>\n",
              "      <td>1</td>\n",
              "      <td>1</td>\n",
              "      <td>1</td>\n",
              "      <td>1</td>\n",
              "      <td>Exploits</td>\n",
              "      <td>1</td>\n",
              "    </tr>\n",
              "    <tr>\n",
              "      <th>20</th>\n",
              "      <td>175.45.176.2</td>\n",
              "      <td>23357</td>\n",
              "      <td>149.171.126.16</td>\n",
              "      <td>80</td>\n",
              "      <td>tcp</td>\n",
              "      <td>FIN</td>\n",
              "      <td>0.240139</td>\n",
              "      <td>918</td>\n",
              "      <td>25552</td>\n",
              "      <td>62</td>\n",
              "      <td>252</td>\n",
              "      <td>2</td>\n",
              "      <td>10</td>\n",
              "      <td>http</td>\n",
              "      <td>2.805042e+04</td>\n",
              "      <td>815794.187500</td>\n",
              "      <td>12</td>\n",
              "      <td>24</td>\n",
              "      <td>255</td>\n",
              "      <td>255</td>\n",
              "      <td>1708297952</td>\n",
              "      <td>1939490744</td>\n",
              "      <td>77</td>\n",
              "      <td>1065</td>\n",
              "      <td>1</td>\n",
              "      <td>12026</td>\n",
              "      <td>1170.481668</td>\n",
              "      <td>1144.383360</td>\n",
              "      <td>1421927416</td>\n",
              "      <td>1421927416</td>\n",
              "      <td>21.830818</td>\n",
              "      <td>9.570304</td>\n",
              "      <td>0.051475</td>\n",
              "      <td>0.006528</td>\n",
              "      <td>0.044947</td>\n",
              "      <td>0</td>\n",
              "      <td>1</td>\n",
              "      <td>1.0</td>\n",
              "      <td>0.0</td>\n",
              "      <td>0</td>\n",
              "      <td>3</td>\n",
              "      <td>2</td>\n",
              "      <td>2</td>\n",
              "      <td>1</td>\n",
              "      <td>1</td>\n",
              "      <td>1</td>\n",
              "      <td>1</td>\n",
              "      <td>Exploits</td>\n",
              "      <td>1</td>\n",
              "    </tr>\n",
              "    <tr>\n",
              "      <th>21</th>\n",
              "      <td>175.45.176.0</td>\n",
              "      <td>13284</td>\n",
              "      <td>149.171.126.16</td>\n",
              "      <td>80</td>\n",
              "      <td>tcp</td>\n",
              "      <td>FIN</td>\n",
              "      <td>2.390390</td>\n",
              "      <td>1362</td>\n",
              "      <td>268</td>\n",
              "      <td>254</td>\n",
              "      <td>252</td>\n",
              "      <td>6</td>\n",
              "      <td>1</td>\n",
              "      <td>http</td>\n",
              "      <td>4.233619e+03</td>\n",
              "      <td>749.668518</td>\n",
              "      <td>14</td>\n",
              "      <td>6</td>\n",
              "      <td>255</td>\n",
              "      <td>255</td>\n",
              "      <td>3897219059</td>\n",
              "      <td>2466816006</td>\n",
              "      <td>97</td>\n",
              "      <td>45</td>\n",
              "      <td>1</td>\n",
              "      <td>0</td>\n",
              "      <td>18786.711400</td>\n",
              "      <td>941.724938</td>\n",
              "      <td>1421927414</td>\n",
              "      <td>1421927416</td>\n",
              "      <td>183.579303</td>\n",
              "      <td>474.259406</td>\n",
              "      <td>0.066088</td>\n",
              "      <td>0.017959</td>\n",
              "      <td>0.048129</td>\n",
              "      <td>0</td>\n",
              "      <td>1</td>\n",
              "      <td>1.0</td>\n",
              "      <td>0.0</td>\n",
              "      <td>0</td>\n",
              "      <td>5</td>\n",
              "      <td>2</td>\n",
              "      <td>2</td>\n",
              "      <td>1</td>\n",
              "      <td>1</td>\n",
              "      <td>1</td>\n",
              "      <td>1</td>\n",
              "      <td>Reconnaissance</td>\n",
              "      <td>1</td>\n",
              "    </tr>\n",
              "    <tr>\n",
              "      <th>38</th>\n",
              "      <td>175.45.176.2</td>\n",
              "      <td>13792</td>\n",
              "      <td>149.171.126.16</td>\n",
              "      <td>5555</td>\n",
              "      <td>tcp</td>\n",
              "      <td>FIN</td>\n",
              "      <td>0.175190</td>\n",
              "      <td>8168</td>\n",
              "      <td>268</td>\n",
              "      <td>254</td>\n",
              "      <td>252</td>\n",
              "      <td>4</td>\n",
              "      <td>1</td>\n",
              "      <td>-</td>\n",
              "      <td>3.463668e+05</td>\n",
              "      <td>10228.894530</td>\n",
              "      <td>14</td>\n",
              "      <td>6</td>\n",
              "      <td>255</td>\n",
              "      <td>255</td>\n",
              "      <td>2505143795</td>\n",
              "      <td>3592239707</td>\n",
              "      <td>583</td>\n",
              "      <td>45</td>\n",
              "      <td>0</td>\n",
              "      <td>0</td>\n",
              "      <td>774.788316</td>\n",
              "      <td>47.765387</td>\n",
              "      <td>1421927417</td>\n",
              "      <td>1421927417</td>\n",
              "      <td>11.837692</td>\n",
              "      <td>33.287000</td>\n",
              "      <td>0.054878</td>\n",
              "      <td>0.008744</td>\n",
              "      <td>0.046134</td>\n",
              "      <td>0</td>\n",
              "      <td>1</td>\n",
              "      <td>0.0</td>\n",
              "      <td>0.0</td>\n",
              "      <td>0</td>\n",
              "      <td>1</td>\n",
              "      <td>1</td>\n",
              "      <td>1</td>\n",
              "      <td>1</td>\n",
              "      <td>1</td>\n",
              "      <td>1</td>\n",
              "      <td>1</td>\n",
              "      <td>Exploits</td>\n",
              "      <td>1</td>\n",
              "    </tr>\n",
              "    <tr>\n",
              "      <th>39</th>\n",
              "      <td>175.45.176.2</td>\n",
              "      <td>26939</td>\n",
              "      <td>149.171.126.10</td>\n",
              "      <td>80</td>\n",
              "      <td>tcp</td>\n",
              "      <td>FIN</td>\n",
              "      <td>0.190600</td>\n",
              "      <td>844</td>\n",
              "      <td>268</td>\n",
              "      <td>254</td>\n",
              "      <td>252</td>\n",
              "      <td>2</td>\n",
              "      <td>1</td>\n",
              "      <td>http</td>\n",
              "      <td>3.189927e+04</td>\n",
              "      <td>9401.888672</td>\n",
              "      <td>10</td>\n",
              "      <td>6</td>\n",
              "      <td>255</td>\n",
              "      <td>255</td>\n",
              "      <td>3006332195</td>\n",
              "      <td>1452987536</td>\n",
              "      <td>84</td>\n",
              "      <td>45</td>\n",
              "      <td>1</td>\n",
              "      <td>0</td>\n",
              "      <td>996.632407</td>\n",
              "      <td>59.532129</td>\n",
              "      <td>1421927418</td>\n",
              "      <td>1421927418</td>\n",
              "      <td>18.573778</td>\n",
              "      <td>36.845602</td>\n",
              "      <td>0.050675</td>\n",
              "      <td>0.006354</td>\n",
              "      <td>0.044321</td>\n",
              "      <td>0</td>\n",
              "      <td>1</td>\n",
              "      <td>1.0</td>\n",
              "      <td>0.0</td>\n",
              "      <td>0</td>\n",
              "      <td>3</td>\n",
              "      <td>1</td>\n",
              "      <td>1</td>\n",
              "      <td>1</td>\n",
              "      <td>1</td>\n",
              "      <td>1</td>\n",
              "      <td>1</td>\n",
              "      <td>Exploits</td>\n",
              "      <td>1</td>\n",
              "    </tr>\n",
              "    <tr>\n",
              "      <th>...</th>\n",
              "      <td>...</td>\n",
              "      <td>...</td>\n",
              "      <td>...</td>\n",
              "      <td>...</td>\n",
              "      <td>...</td>\n",
              "      <td>...</td>\n",
              "      <td>...</td>\n",
              "      <td>...</td>\n",
              "      <td>...</td>\n",
              "      <td>...</td>\n",
              "      <td>...</td>\n",
              "      <td>...</td>\n",
              "      <td>...</td>\n",
              "      <td>...</td>\n",
              "      <td>...</td>\n",
              "      <td>...</td>\n",
              "      <td>...</td>\n",
              "      <td>...</td>\n",
              "      <td>...</td>\n",
              "      <td>...</td>\n",
              "      <td>...</td>\n",
              "      <td>...</td>\n",
              "      <td>...</td>\n",
              "      <td>...</td>\n",
              "      <td>...</td>\n",
              "      <td>...</td>\n",
              "      <td>...</td>\n",
              "      <td>...</td>\n",
              "      <td>...</td>\n",
              "      <td>...</td>\n",
              "      <td>...</td>\n",
              "      <td>...</td>\n",
              "      <td>...</td>\n",
              "      <td>...</td>\n",
              "      <td>...</td>\n",
              "      <td>...</td>\n",
              "      <td>...</td>\n",
              "      <td>...</td>\n",
              "      <td>...</td>\n",
              "      <td>...</td>\n",
              "      <td>...</td>\n",
              "      <td>...</td>\n",
              "      <td>...</td>\n",
              "      <td>...</td>\n",
              "      <td>...</td>\n",
              "      <td>...</td>\n",
              "      <td>...</td>\n",
              "      <td>...</td>\n",
              "      <td>...</td>\n",
              "    </tr>\n",
              "    <tr>\n",
              "      <th>2540023</th>\n",
              "      <td>175.45.176.0</td>\n",
              "      <td>47439</td>\n",
              "      <td>149.171.126.10</td>\n",
              "      <td>53</td>\n",
              "      <td>udp</td>\n",
              "      <td>INT</td>\n",
              "      <td>0.000001</td>\n",
              "      <td>114</td>\n",
              "      <td>0</td>\n",
              "      <td>254</td>\n",
              "      <td>0</td>\n",
              "      <td>0</td>\n",
              "      <td>0</td>\n",
              "      <td>dns</td>\n",
              "      <td>4.560000e+08</td>\n",
              "      <td>0.000000</td>\n",
              "      <td>2</td>\n",
              "      <td>0</td>\n",
              "      <td>0</td>\n",
              "      <td>0</td>\n",
              "      <td>0</td>\n",
              "      <td>0</td>\n",
              "      <td>57</td>\n",
              "      <td>0</td>\n",
              "      <td>0</td>\n",
              "      <td>0</td>\n",
              "      <td>0.000000</td>\n",
              "      <td>0.000000</td>\n",
              "      <td>1424262068</td>\n",
              "      <td>1424262068</td>\n",
              "      <td>0.001000</td>\n",
              "      <td>0.000000</td>\n",
              "      <td>0.000000</td>\n",
              "      <td>0.000000</td>\n",
              "      <td>0.000000</td>\n",
              "      <td>0</td>\n",
              "      <td>2</td>\n",
              "      <td>NaN</td>\n",
              "      <td>NaN</td>\n",
              "      <td></td>\n",
              "      <td>15</td>\n",
              "      <td>15</td>\n",
              "      <td>15</td>\n",
              "      <td>15</td>\n",
              "      <td>15</td>\n",
              "      <td>15</td>\n",
              "      <td>15</td>\n",
              "      <td>Generic</td>\n",
              "      <td>1</td>\n",
              "    </tr>\n",
              "    <tr>\n",
              "      <th>2540024</th>\n",
              "      <td>175.45.176.0</td>\n",
              "      <td>17293</td>\n",
              "      <td>149.171.126.17</td>\n",
              "      <td>110</td>\n",
              "      <td>tcp</td>\n",
              "      <td>CON</td>\n",
              "      <td>0.942984</td>\n",
              "      <td>574</td>\n",
              "      <td>676</td>\n",
              "      <td>62</td>\n",
              "      <td>252</td>\n",
              "      <td>5</td>\n",
              "      <td>6</td>\n",
              "      <td>-</td>\n",
              "      <td>4.470914e+03</td>\n",
              "      <td>5259.898438</td>\n",
              "      <td>12</td>\n",
              "      <td>12</td>\n",
              "      <td>255</td>\n",
              "      <td>255</td>\n",
              "      <td>3026824982</td>\n",
              "      <td>3748412468</td>\n",
              "      <td>48</td>\n",
              "      <td>56</td>\n",
              "      <td>0</td>\n",
              "      <td>0</td>\n",
              "      <td>3903.523582</td>\n",
              "      <td>95.650531</td>\n",
              "      <td>1424262068</td>\n",
              "      <td>1424262069</td>\n",
              "      <td>79.714089</td>\n",
              "      <td>80.827180</td>\n",
              "      <td>0.139446</td>\n",
              "      <td>0.053884</td>\n",
              "      <td>0.085562</td>\n",
              "      <td>0</td>\n",
              "      <td>3</td>\n",
              "      <td>NaN</td>\n",
              "      <td>NaN</td>\n",
              "      <td></td>\n",
              "      <td>2</td>\n",
              "      <td>1</td>\n",
              "      <td>2</td>\n",
              "      <td>4</td>\n",
              "      <td>2</td>\n",
              "      <td>2</td>\n",
              "      <td>2</td>\n",
              "      <td>Exploits</td>\n",
              "      <td>1</td>\n",
              "    </tr>\n",
              "    <tr>\n",
              "      <th>2540025</th>\n",
              "      <td>175.45.176.0</td>\n",
              "      <td>33654</td>\n",
              "      <td>149.171.126.12</td>\n",
              "      <td>80</td>\n",
              "      <td>tcp</td>\n",
              "      <td>CON</td>\n",
              "      <td>2.579405</td>\n",
              "      <td>269883</td>\n",
              "      <td>1300</td>\n",
              "      <td>62</td>\n",
              "      <td>252</td>\n",
              "      <td>103</td>\n",
              "      <td>1</td>\n",
              "      <td>-</td>\n",
              "      <td>8.330169e+05</td>\n",
              "      <td>3898.573486</td>\n",
              "      <td>208</td>\n",
              "      <td>30</td>\n",
              "      <td>255</td>\n",
              "      <td>255</td>\n",
              "      <td>183420721</td>\n",
              "      <td>3548597985</td>\n",
              "      <td>1298</td>\n",
              "      <td>43</td>\n",
              "      <td>1</td>\n",
              "      <td>0</td>\n",
              "      <td>1701.614470</td>\n",
              "      <td>138.857703</td>\n",
              "      <td>1424262066</td>\n",
              "      <td>1424262069</td>\n",
              "      <td>12.239136</td>\n",
              "      <td>86.655617</td>\n",
              "      <td>0.159923</td>\n",
              "      <td>0.066388</td>\n",
              "      <td>0.093535</td>\n",
              "      <td>0</td>\n",
              "      <td>3</td>\n",
              "      <td>2.0</td>\n",
              "      <td>NaN</td>\n",
              "      <td></td>\n",
              "      <td>2</td>\n",
              "      <td>1</td>\n",
              "      <td>2</td>\n",
              "      <td>4</td>\n",
              "      <td>2</td>\n",
              "      <td>2</td>\n",
              "      <td>2</td>\n",
              "      <td>DoS</td>\n",
              "      <td>1</td>\n",
              "    </tr>\n",
              "    <tr>\n",
              "      <th>2540026</th>\n",
              "      <td>175.45.176.0</td>\n",
              "      <td>33654</td>\n",
              "      <td>149.171.126.12</td>\n",
              "      <td>80</td>\n",
              "      <td>tcp</td>\n",
              "      <td>CON</td>\n",
              "      <td>2.579405</td>\n",
              "      <td>269883</td>\n",
              "      <td>1300</td>\n",
              "      <td>62</td>\n",
              "      <td>252</td>\n",
              "      <td>103</td>\n",
              "      <td>1</td>\n",
              "      <td>http</td>\n",
              "      <td>8.330169e+05</td>\n",
              "      <td>3898.573486</td>\n",
              "      <td>208</td>\n",
              "      <td>30</td>\n",
              "      <td>255</td>\n",
              "      <td>255</td>\n",
              "      <td>183420721</td>\n",
              "      <td>3548597985</td>\n",
              "      <td>1298</td>\n",
              "      <td>43</td>\n",
              "      <td>1</td>\n",
              "      <td>0</td>\n",
              "      <td>1701.614470</td>\n",
              "      <td>138.857703</td>\n",
              "      <td>1424262066</td>\n",
              "      <td>1424262069</td>\n",
              "      <td>12.239136</td>\n",
              "      <td>86.655617</td>\n",
              "      <td>0.159923</td>\n",
              "      <td>0.066388</td>\n",
              "      <td>0.093535</td>\n",
              "      <td>0</td>\n",
              "      <td>3</td>\n",
              "      <td>2.0</td>\n",
              "      <td>NaN</td>\n",
              "      <td></td>\n",
              "      <td>1</td>\n",
              "      <td>1</td>\n",
              "      <td>2</td>\n",
              "      <td>4</td>\n",
              "      <td>2</td>\n",
              "      <td>2</td>\n",
              "      <td>2</td>\n",
              "      <td>DoS</td>\n",
              "      <td>1</td>\n",
              "    </tr>\n",
              "    <tr>\n",
              "      <th>2540042</th>\n",
              "      <td>175.45.176.0</td>\n",
              "      <td>17293</td>\n",
              "      <td>149.171.126.17</td>\n",
              "      <td>110</td>\n",
              "      <td>tcp</td>\n",
              "      <td>CON</td>\n",
              "      <td>0.942984</td>\n",
              "      <td>574</td>\n",
              "      <td>676</td>\n",
              "      <td>62</td>\n",
              "      <td>252</td>\n",
              "      <td>5</td>\n",
              "      <td>6</td>\n",
              "      <td>pop3</td>\n",
              "      <td>4.470914e+03</td>\n",
              "      <td>5259.898438</td>\n",
              "      <td>12</td>\n",
              "      <td>12</td>\n",
              "      <td>255</td>\n",
              "      <td>255</td>\n",
              "      <td>3026824982</td>\n",
              "      <td>3748412468</td>\n",
              "      <td>48</td>\n",
              "      <td>56</td>\n",
              "      <td>0</td>\n",
              "      <td>0</td>\n",
              "      <td>3903.523582</td>\n",
              "      <td>95.650531</td>\n",
              "      <td>1424262068</td>\n",
              "      <td>1424262069</td>\n",
              "      <td>79.714089</td>\n",
              "      <td>80.827180</td>\n",
              "      <td>0.139446</td>\n",
              "      <td>0.053884</td>\n",
              "      <td>0.085562</td>\n",
              "      <td>0</td>\n",
              "      <td>3</td>\n",
              "      <td>NaN</td>\n",
              "      <td>NaN</td>\n",
              "      <td></td>\n",
              "      <td>1</td>\n",
              "      <td>1</td>\n",
              "      <td>2</td>\n",
              "      <td>4</td>\n",
              "      <td>2</td>\n",
              "      <td>2</td>\n",
              "      <td>2</td>\n",
              "      <td>Exploits</td>\n",
              "      <td>1</td>\n",
              "    </tr>\n",
              "  </tbody>\n",
              "</table>\n",
              "<p>321283 rows × 49 columns</p>\n",
              "</div>"
            ],
            "text/plain": [
              "                srcip  sport  ...      attack_cat label\n",
              "19       175.45.176.3  21223  ...        Exploits     1\n",
              "20       175.45.176.2  23357  ...        Exploits     1\n",
              "21       175.45.176.0  13284  ...  Reconnaissance     1\n",
              "38       175.45.176.2  13792  ...        Exploits     1\n",
              "39       175.45.176.2  26939  ...        Exploits     1\n",
              "...               ...    ...  ...             ...   ...\n",
              "2540023  175.45.176.0  47439  ...         Generic     1\n",
              "2540024  175.45.176.0  17293  ...        Exploits     1\n",
              "2540025  175.45.176.0  33654  ...             DoS     1\n",
              "2540026  175.45.176.0  33654  ...             DoS     1\n",
              "2540042  175.45.176.0  17293  ...        Exploits     1\n",
              "\n",
              "[321283 rows x 49 columns]"
            ]
          },
          "metadata": {
            "tags": []
          },
          "execution_count": 22
        }
      ]
    },
    {
      "cell_type": "code",
      "metadata": {
        "colab": {
          "base_uri": "https://localhost:8080/"
        },
        "id": "1_Op0I-b_A-e",
        "outputId": "b11d05f2-cc4f-4cb7-adb5-c099246bc4c1"
      },
      "source": [
        "# Attack types in the datasets\n",
        "data.attack_cat.unique()"
      ],
      "execution_count": null,
      "outputs": [
        {
          "output_type": "execute_result",
          "data": {
            "text/plain": [
              "array([nan, 'Exploits', 'Reconnaissance', 'DoS', 'Generic', 'Shellcode',\n",
              "       ' Fuzzers', 'Worms', 'Backdoors', 'Analysis', ' Reconnaissance ',\n",
              "       'Backdoor', ' Fuzzers ', ' Shellcode '], dtype=object)"
            ]
          },
          "metadata": {
            "tags": []
          },
          "execution_count": 23
        }
      ]
    },
    {
      "cell_type": "code",
      "metadata": {
        "colab": {
          "base_uri": "https://localhost:8080/"
        },
        "id": "EjftyGaxArzF",
        "outputId": "43f8d118-a817-4420-a3a4-dac28b5be38e"
      },
      "source": [
        "# Looking at the different values in the service column in the dataset\n",
        "data.service.value_counts()"
      ],
      "execution_count": null,
      "outputs": [
        {
          "output_type": "execute_result",
          "data": {
            "text/plain": [
              "-           1246395\n",
              "dns          781667\n",
              "http         206273\n",
              "ftp-data     125783\n",
              "smtp          81644\n",
              "ftp           49090\n",
              "ssh           47160\n",
              "pop3           1533\n",
              "dhcp            172\n",
              "ssl             142\n",
              "snmp            113\n",
              "radius           40\n",
              "irc              31\n",
              "Name: service, dtype: int64"
            ]
          },
          "metadata": {
            "tags": []
          },
          "execution_count": 24
        }
      ]
    },
    {
      "cell_type": "code",
      "metadata": {
        "id": "SuoB5JAvBCdq"
      },
      "source": [
        "# replacing '-' values in service with 'notservice'\n",
        "data.service.replace('-','notservice',inplace=True)"
      ],
      "execution_count": null,
      "outputs": []
    },
    {
      "cell_type": "code",
      "metadata": {
        "colab": {
          "base_uri": "https://localhost:8080/"
        },
        "id": "twfmzVD2BH58",
        "outputId": "6875f6fa-8e1b-4659-8cc5-844ba4c1b556"
      },
      "source": [
        "# Exploring protocols values in the dataset\n",
        "data.proto.unique()"
      ],
      "execution_count": null,
      "outputs": [
        {
          "output_type": "execute_result",
          "data": {
            "text/plain": [
              "array(['udp', 'arp', 'tcp', 'ospf', 'icmp', 'igmp', 'sctp', 'udt', 'sep',\n",
              "       'sun-nd', 'swipe', 'mobile', 'pim', 'rtp', 'ipnip', 'ip', 'ggp',\n",
              "       'st2', 'egp', 'cbt', 'emcon', 'nvp', 'igp', 'xnet', 'argus',\n",
              "       'bbn-rcc', 'chaos', 'pup', 'hmp', 'mux', 'dcn', 'prm', 'trunk-1',\n",
              "       'xns-idp', 'trunk-2', 'leaf-1', 'leaf-2', 'irtp', 'rdp', 'iso-tp4',\n",
              "       'netblt', 'mfe-nsp', 'merit-inp', '3pc', 'xtp', 'idpr', 'tp++',\n",
              "       'ddp', 'idpr-cmtp', 'ipv6', 'il', 'idrp', 'ipv6-frag', 'sdrp',\n",
              "       'ipv6-route', 'gre', 'rsvp', 'mhrp', 'bna', 'esp', 'i-nlsp',\n",
              "       'narp', 'ipv6-no', 'tlsp', 'skip', 'ipv6-opts', 'any', 'cftp',\n",
              "       'sat-expak', 'kryptolan', 'rvd', 'ippc', 'sat-mon', 'ipcv', 'visa',\n",
              "       'cpnx', 'cphb', 'wsn', 'pvp', 'br-sat-mon', 'wb-mon', 'wb-expak',\n",
              "       'iso-ip', 'secure-vmtp', 'vmtp', 'vines', 'ttp', 'nsfnet-igp',\n",
              "       'dgp', 'tcf', 'eigrp', 'sprite-rpc', 'larp', 'mtp', 'ax.25',\n",
              "       'ipip', 'micp', 'aes-sp3-d', 'encap', 'etherip', 'pri-enc', 'gmtp',\n",
              "       'pnni', 'ifmp', 'aris', 'qnx', 'a/n', 'scps', 'snp', 'ipcomp',\n",
              "       'compaq-peer', 'ipx-n-ip', 'vrrp', 'zero', 'pgm', 'iatp', 'ddx',\n",
              "       'l2tp', 'srp', 'stp', 'smp', 'uti', 'sm', 'ptp', 'fire', 'crtp',\n",
              "       'isis', 'crudp', 'sccopmce', 'sps', 'pipe', 'iplt', 'unas', 'fc',\n",
              "       'ib'], dtype=object)"
            ]
          },
          "metadata": {
            "tags": []
          },
          "execution_count": 26
        }
      ]
    },
    {
      "cell_type": "markdown",
      "metadata": {
        "id": "l0tw_0OQVxL_"
      },
      "source": [
        ""
      ]
    },
    {
      "cell_type": "code",
      "metadata": {
        "colab": {
          "base_uri": "https://localhost:8080/",
          "height": 501
        },
        "id": "PiXV8kD5KSpd",
        "outputId": "ba61a532-618e-424d-f7b1-4d12dba34cea"
      },
      "source": [
        "# Max and min values in duration feature\n",
        "print(data['dur'].max(),data['dur'].min())\n",
        "binss = np.arange(5,9000,5)\n",
        "plt.figure(figsize=[8,8])\n",
        "plt.hist(data['dur'],bins=binss);\n",
        "plt.xticks(binss,binss,rotation=30);\n",
        "plt.xlim(0,80);"
      ],
      "execution_count": null,
      "outputs": [
        {
          "output_type": "stream",
          "text": [
            "8786.637695 0.0\n"
          ],
          "name": "stdout"
        },
        {
          "output_type": "display_data",
          "data": {
            "image/png": "[encoded data removed]",
            "text/plain": [
              "<Figure size 576x576 with 1 Axes>"
            ]
          },
          "metadata": {
            "tags": []
          }
        }
      ]
    },
    {
      "cell_type": "markdown",
      "metadata": {
        "id": "TaRjZBfkWKe5"
      },
      "source": [
        "Almost all traffic durations in the dataset lie between 0~60 secs. There were about 6 samples that had 8786 Secs , so we considered them as outliers and removed them."
      ]
    },
    {
      "cell_type": "code",
      "metadata": {
        "colab": {
          "base_uri": "https://localhost:8080/"
        },
        "id": "n9DRXYwBOV_J",
        "outputId": "2f79d7a4-949f-486d-d503-cf99b6fb125a"
      },
      "source": [
        "# seeing how many values in 'dur' larger thatn 60 Secs\n",
        "print(\"How many values in 'dur' is larger than 60 secs ?\",data[data.dur > 60].shape[0])"
      ],
      "execution_count": null,
      "outputs": [
        {
          "output_type": "stream",
          "text": [
            "How many values in 'dur' is larger than 60 secs ? 6\n"
          ],
          "name": "stdout"
        }
      ]
    },
    {
      "cell_type": "code",
      "metadata": {
        "id": "uAPzgPUMiI5i"
      },
      "source": [
        "# dropping outliers in dur \n",
        "data.drop(data[data.dur > 60].index,inplace=True)"
      ],
      "execution_count": null,
      "outputs": []
    },
    {
      "cell_type": "code",
      "metadata": {
        "colab": {
          "base_uri": "https://localhost:8080/",
          "height": 345
        },
        "id": "ZEf_nKmQiZ6e",
        "outputId": "4bacc2da-b1da-4ab5-f031-51ca727f7c02"
      },
      "source": [
        "order=data.attack_cat.value_counts().index\n",
        "sb.countplot(data=data,x='attack_cat',order=order,color=sb.color_palette()[2]);\n",
        "plt.yscale('log');\n",
        "plt.xticks(rotation = 90);"
      ],
      "execution_count": null,
      "outputs": [
        {
          "output_type": "display_data",
          "data": {
            "image/png": "[encoded data removed]",
            "text/plain": [
              "<Figure size 432x288 with 1 Axes>"
            ]
          },
          "metadata": {
            "tags": []
          }
        }
      ]
    },
    {
      "cell_type": "markdown",
      "metadata": {
        "id": "OpczxDyQV8_6"
      },
      "source": [
        "This graph shows the number of occurrences of each attack category in the UNSW-NB15 dataset; DoS attack is in the 4th location with 16,353 samples."
      ]
    },
    {
      "cell_type": "code",
      "metadata": {
        "colab": {
          "base_uri": "https://localhost:8080/",
          "height": 493
        },
        "id": "-YaDsoMYitj_",
        "outputId": "5734b2ec-721b-4994-bf98-8730dfa25e67"
      },
      "source": [
        "# sttl values\n",
        "plt.figure(figsize=[16,8])\n",
        "sb.countplot(data = data, x = 'sttl', hue =  'label')\n",
        "plt.yscale('log')"
      ],
      "execution_count": null,
      "outputs": [
        {
          "output_type": "display_data",
          "data": {
            "image/png": "[encoded data removed]",
            "text/plain": [
              "<Figure size 1152x576 with 1 Axes>"
            ]
          },
          "metadata": {
            "tags": []
          }
        }
      ]
    },
    {
      "cell_type": "markdown",
      "metadata": {
        "id": "2cLN8uOrWWFT"
      },
      "source": [
        "When we started creating models and seeing the significance of features in predictions, we found something weird. ANY features had a relation with “TTL” considered Very significant to the models. This graph explains why that, there are some values that consider just attack and others consider just normal. We excluded these features to avoid overfitting."
      ]
    },
    {
      "cell_type": "code",
      "metadata": {
        "colab": {
          "base_uri": "https://localhost:8080/",
          "height": 493
        },
        "id": "ucbZ1kMhkluE",
        "outputId": "d9726ae9-810e-43a4-cecd-bc9918d79a88"
      },
      "source": [
        "# dttl values\n",
        "plt.figure(figsize=[16,8])\n",
        "sb.countplot(data = data, x = 'dttl', hue =  'label')\n",
        "plt.yscale('log')"
      ],
      "execution_count": null,
      "outputs": [
        {
          "output_type": "display_data",
          "data": {
            "image/png": "[encoded data removed]",
            "text/plain": [
              "<Figure size 1152x576 with 1 Axes>"
            ]
          },
          "metadata": {
            "tags": []
          }
        }
      ]
    },
    {
      "cell_type": "code",
      "metadata": {
        "colab": {
          "base_uri": "https://localhost:8080/",
          "height": 259
        },
        "id": "qYTkoVtbl_sB",
        "outputId": "a4b8457d-c471-40f6-f30f-4cdfdcdad531"
      },
      "source": [
        "g =sb.FacetGrid(data=data,col='label' )\n",
        "plt.figure(figsize=[8,8])\n",
        "g.map(plt.scatter,'spkts','dpkts')"
      ],
      "execution_count": null,
      "outputs": [
        {
          "output_type": "execute_result",
          "data": {
            "text/plain": [
              "<seaborn.axisgrid.FacetGrid at 0x7f0c36961550>"
            ]
          },
          "metadata": {
            "tags": []
          },
          "execution_count": 36
        },
        {
          "output_type": "display_data",
          "data": {
            "image/png": "[encoded data removed]",
            "text/plain": [
              "<Figure size 432x216 with 2 Axes>"
            ]
          },
          "metadata": {
            "tags": []
          }
        },
        {
          "output_type": "display_data",
          "data": {
            "text/plain": [
              "<Figure size 576x576 with 0 Axes>"
            ]
          },
          "metadata": {
            "tags": []
          }
        }
      ]
    },
    {
      "cell_type": "markdown",
      "metadata": {
        "id": "Ea3TOwsLXQi4"
      },
      "source": [
        "\n",
        "This graph clarifies that normal traffic tends to have a small number of source and destination packets, In contrast, the attack traffic tends more to have either a high number of source or destination packets.\n"
      ]
    },
    {
      "cell_type": "code",
      "metadata": {
        "colab": {
          "base_uri": "https://localhost:8080/",
          "height": 259
        },
        "id": "hQMiDGpPmGl-",
        "outputId": "8373b300-6c1e-495f-95ff-c75780dfe15e"
      },
      "source": [
        "g =sb.FacetGrid(data=data,col='label' )\n",
        "plt.figure(figsize=[8,8])\n",
        "g.map(plt.scatter,'sbytes','dbytes')"
      ],
      "execution_count": null,
      "outputs": [
        {
          "output_type": "execute_result",
          "data": {
            "text/plain": [
              "<seaborn.axisgrid.FacetGrid at 0x7f0c40d5f810>"
            ]
          },
          "metadata": {
            "tags": []
          },
          "execution_count": 37
        },
        {
          "output_type": "display_data",
          "data": {
            "image/png": "[encoded data removed]",
            "text/plain": [
              "<Figure size 432x216 with 2 Axes>"
            ]
          },
          "metadata": {
            "tags": []
          }
        },
        {
          "output_type": "display_data",
          "data": {
            "text/plain": [
              "<Figure size 576x576 with 0 Axes>"
            ]
          },
          "metadata": {
            "tags": []
          }
        }
      ]
    },
    {
      "cell_type": "markdown",
      "metadata": {
        "id": "94_e6rQDXNJD"
      },
      "source": [
        "The same idea of the previous graph goes for this one. So, the normal traffic will have a small\n",
        "number of Bytes, whereas the attack one will have a large number of bytes in either source or destination traffic.\n"
      ]
    },
    {
      "cell_type": "code",
      "metadata": {
        "colab": {
          "base_uri": "https://localhost:8080/"
        },
        "id": "xh57J73PrSmp",
        "outputId": "c9675783-4dbc-4062-ea8b-b1a9f9d08b15"
      },
      "source": [
        "# Making sure that the data has no nulls anymore\n",
        "data.isnull().sum()"
      ],
      "execution_count": null,
      "outputs": [
        {
          "output_type": "execute_result",
          "data": {
            "text/plain": [
              "proto      0\n",
              "dur        0\n",
              "sbytes     0\n",
              "dbytes     0\n",
              "sloss      0\n",
              "dloss      0\n",
              "service    0\n",
              "sload      0\n",
              "dload      0\n",
              "spkts      0\n",
              "dpkts      0\n",
              "swin       0\n",
              "dwin       0\n",
              "stcpb      0\n",
              "dtcpb      0\n",
              "smeansz    0\n",
              "dmeansz    0\n",
              "sjit       0\n",
              "djit       0\n",
              "stime      0\n",
              "ltime      0\n",
              "label      0\n",
              "dtype: int64"
            ]
          },
          "metadata": {
            "tags": []
          },
          "execution_count": 45
        }
      ]
    },
    {
      "cell_type": "code",
      "metadata": {
        "id": "65WAADK5mO_a"
      },
      "source": [
        "# Saving the cleaned data in one file to be easily accessed\n",
        "data.to_csv('/content/drive/MyDrive/Data/cleaned_data.csv',index = False)"
      ],
      "execution_count": null,
      "outputs": []
    },
    {
      "cell_type": "code",
      "metadata": {
        "id": "m-M89oQXmko8"
      },
      "source": [
        "# Reading the cleaned data file for easier use in the future\n",
        "data = pd.read_csv('/content/drive/MyDrive/Data/cleaned_data.csv')"
      ],
      "execution_count": null,
      "outputs": []
    },
    {
      "cell_type": "markdown",
      "metadata": {
        "id": "iGh_edYpm2Jh"
      },
      "source": [
        "**Used features in the model**\n",
        "\n",
        "It is imperative to say here that this project is part of a larger project (actually our graduation project) and the idea of this model is to deploy it on an SDN network controller. We are not interested in the controller part here but we had to only use the features that our SDN controller team managed to capture at the time. With that being said, there is a section at the end of this project called (Extras) , there you can find a feature selection algorithms that we managed to create and test, we just didn't use in the main project for the previuos reasons but we wanted to share it with you."
      ]
    },
    {
      "cell_type": "code",
      "metadata": {
        "id": "A46U44Bc_LnB"
      },
      "source": [
        "# Dropping unused features\n",
        "# We only used about the first 21 feature\n",
        "# We dropped port numbers and IPs as they will cause overfitting, also dropped some columns that have huge NaNs\n",
        "# List of Features that Implemenataion subteam succeeded to extract + label\n",
        "\n",
        "imp_features= ['proto','dur','sbytes','dbytes','sloss','dloss','service','sload','dload','spkts','dpkts','swin','dwin','stcpb','dtcpb','smeansz','dmeansz','sjit','djit','stime','ltime','label']\n",
        "data = data.loc[:,imp_features]"
      ],
      "execution_count": null,
      "outputs": []
    },
    {
      "cell_type": "code",
      "metadata": {
        "colab": {
          "base_uri": "https://localhost:8080/"
        },
        "id": "xm3GQOZmCv7F",
        "outputId": "cb6ae5a0-886f-4b21-e4e1-0b4718da13b2"
      },
      "source": [
        "# Applying label encoder for the dataset that will be used in the supervised model\n",
        "Supervised_data = data.copy()\n",
        "col =[]\n",
        "for column in Supervised_data.columns :\n",
        "    if Supervised_data[column].dtype == object :\n",
        "        col.append(column)  \n",
        "for column in col :\n",
        "    le = LabelEncoder()\n",
        "    print(column)\n",
        "    le.fit(Supervised_data[column])\n",
        "    \n",
        "    Supervised_data[column]=le.transform(Supervised_data[column])\n",
        "   "
      ],
      "execution_count": null,
      "outputs": [
        {
          "output_type": "stream",
          "text": [
            "proto\n",
            "service\n"
          ],
          "name": "stdout"
        }
      ]
    },
    {
      "cell_type": "markdown",
      "metadata": {
        "id": "Dflq8PNg_sfs"
      },
      "source": [
        "# ***3) The Models*** \n",
        "Here we have two models: Supervised machine learning model and Unsupervised deep learning model \n",
        "\n",
        "The unsupervised model is used at the beginning before the supervised one to check if the flow (data) is suspicious or not. If the flow looks normal, it is allowed to pass peacefully without further checks ant it doesn't inovke any other investigation (the supervised one).\n",
        "\n",
        "If the flow looks suspicious, the supervised model is invoked and \n",
        "used to investigate this flow to see if it is really an attack or not to to inform the controller to take the needed action"
      ]
    },
    {
      "cell_type": "markdown",
      "metadata": {
        "id": "NiolcSm7KJL2"
      },
      "source": [
        "***A) Unsupervised deep learning model***\n",
        "\n",
        "Here we built an Unsupervised deep learning model to perform an initial investigation of the data.\n",
        "\n",
        "For building this model, we used the already prepared train and test dataset files."
      ]
    },
    {
      "cell_type": "code",
      "metadata": {
        "id": "NUH3opmvYJ5u"
      },
      "source": [
        "test = pd.read_csv(\"/content/drive/MyDrive/Dataset/UNSW_NB15_testing-set.csv\")\n",
        "train = pd.read_csv(\"/content/drive/MyDrive/Dataset/UNSW_NB15_testing-set.csv\")\n",
        "UNs_imp_features=['proto','dur','sbytes','dbytes','sloss','dloss','service','sload','dload','spkts','dpkts','swin','dwin','stcpb','dtcpb','sjit','djit','attack_cat','label']\n",
        "train=train.loc[:,UNs_imp_features]\n",
        "test=test.loc[:,UNs_imp_features]\n",
        "train.service.replace('-','notservice',inplace=True)\n",
        "test.service.replace('-','notservice',inplace=True)\n",
        "hash_encoder = ce.HashingEncoder(cols= [\"proto\",\"service\"],n_components = 13)\n",
        "train = hash_encoder.fit_transform(train,train.label)\n",
        "test = hash_encoder.transform(test)"
      ],
      "execution_count": null,
      "outputs": []
    },
    {
      "cell_type": "code",
      "metadata": {
        "id": "hpg0r51_sn01"
      },
      "source": [
        "def mse(pred,true):\n",
        "    result = []\n",
        "    for sample1,sample2 in zip(pred,true):\n",
        "        error = sum((sample1.astype(\"float\") - sample2.astype(\"float\")) ** 2)\n",
        "        error /= float(len(sample2))\n",
        "        result.append(error)\n",
        "    return np.array(result)\n",
        "\n",
        "def get_losses(model, x):\n",
        "    reconstruct_err = []\n",
        "    pred = model.predict(x)\n",
        "    err = mse(x, pred)\n",
        "    return err\n",
        "def confidence_intervals(data, confidence=0.97):\n",
        "    n = len(data)\n",
        "    # mean & standard deviation\n",
        "    mean, std_dev = np.mean(data), data.std()\n",
        "    z_critical = stats.norm.ppf(q = confidence)\n",
        "    margin_of_error = z_critical * (std_dev/np.sqrt(n))\n",
        "    return [mean-margin_of_error, mean+margin_of_error]\n",
        "def predictAnomaly(model,x,threshold):\n",
        "    pred = model.predict(x)\n",
        "    MSE = mse(pred,x)\n",
        "    res = np.where(MSE <= threshold,0,1) #anomaly : 1, normal : 0\n",
        "    return res\n",
        "def performance(true,pred,title=\"confusion matrix\"):\n",
        "    acc = accuracy_score(pred,true)\n",
        "    print(\"Accurary : \",acc)\n",
        "    f1 = f1_score(true,pred)\n",
        "    print(\"F1 Score : \",f1)\n",
        "\n",
        "    print(\"Classification report\")\n",
        "    print(classification_report(pred,true))\n",
        "    df_cm = pd.DataFrame(confusion_matrix(true,pred), index = [\"Anomal\",\"Normal\"],\n",
        "                      columns = [\"Anomal\",\"Normal\"])\n",
        "    plt.figure(figsize = (10,7))\n",
        "    plt.xticks(fontsize=20)\n",
        "    plt.yticks(fontsize=20)\n",
        "    plt.title(title,fontsize=20)\n",
        "    fig = sn.heatmap(df_cm,fmt='g',annot=True,annot_kws={\"size\": 20})\n",
        "    plt.show()\n",
        "def get_TSNE(dim_reducer,x,labels):\n",
        "\n",
        "    test_reduced = dim_reducer.predict(x)\n",
        "    test_embedded = TSNE(n_components=2).fit_transform(test_reduced)\n",
        "\n",
        "    # with open('test_tsne.pickle', 'wb') as f:\n",
        "    #             pickle.dump(test_embedded, f)\n",
        "\n",
        "    plt.scatter(test_embedded[:,0], test_embedded[:,1], c = labels)\n",
        "    plt.show()"
      ],
      "execution_count": null,
      "outputs": []
    },
    {
      "cell_type": "code",
      "metadata": {
        "id": "s7jBiv33s-4s"
      },
      "source": [
        "DoS=train.query('attack_cat==\"DoS\"').index\n",
        "Normal=train.query('attack_cat==\"Normal\"').index\n",
        "train.drop(['attack_cat','label'],axis=1, inplace =True)"
      ],
      "execution_count": null,
      "outputs": []
    },
    {
      "cell_type": "code",
      "metadata": {
        "id": "4O2QyXkUtLO-"
      },
      "source": [
        "#Performing standard scaler\n",
        "Scaler = StandardScaler()\n",
        "dd = Scaler.fit_transform(train.values)\n",
        "normal_traffic =dd[Normal]\n",
        "dos_traffic = dd[DoS]"
      ],
      "execution_count": null,
      "outputs": []
    },
    {
      "cell_type": "code",
      "metadata": {
        "id": "MBFNIbZ-tgux"
      },
      "source": [
        "#Building the model\n",
        "def fit_model(X,lr=0.0005,ep=50, bs=100):\n",
        "    input_dim = X.shape[1]\n",
        "    latent_space_size = 10\n",
        "    K.clear_session()\n",
        "    input_ = Input(shape = (input_dim, ))\n",
        "\n",
        "    layer_1 = Dense(50, activation='tanh')(input_)\n",
        "    layer_2 = Dense(25, activation='tanh')(layer_1)\n",
        "    layer_3 = Dense(15, activation='tanh')(layer_2)\n",
        "\n",
        "    encoding = Dense(latent_space_size,activation=None)(layer_3)\n",
        "\n",
        "    layer_5 = Dense(15, activation='tanh')(encoding)\n",
        "    layer_6 = Dense(25, activation='tanh')(layer_5)\n",
        "    layer_7 = Dense(50, activation='tanh')(layer_6)\n",
        "\n",
        "    decoded = Dense(input_dim,activation=None)(layer_7)\n",
        "\n",
        "    autoencoder = Model(inputs=input_ , outputs=decoded)\n",
        "    autoencoder.compile(metrics=['accuracy'],loss='mean_squared_error',optimizer=\"adam\")\n",
        "    autoencoder.fit(X, X,epochs=ep,validation_split=0.2,batch_size=bs,shuffle=True,verbose=1)\n",
        "    return autoencoder\n"
      ],
      "execution_count": null,
      "outputs": []
    },
    {
      "cell_type": "code",
      "metadata": {
        "colab": {
          "base_uri": "https://localhost:8080/"
        },
        "id": "jrOiA0yvtkas",
        "outputId": "d15966fb-b91e-4cec-d0ff-e02acea26a49"
      },
      "source": [
        "#Training the model\n",
        "autoencoder=fit_model(normal_traffic)"
      ],
      "execution_count": null,
      "outputs": [
        {
          "output_type": "stream",
          "text": [
            "Epoch 1/50\n",
            "448/448 [==============================] - 15s 4ms/step - loss: 0.3726 - accuracy: 0.5670 - val_loss: 0.4656 - val_accuracy: 0.6455\n",
            "Epoch 2/50\n",
            "448/448 [==============================] - 1s 3ms/step - loss: 0.0823 - accuracy: 0.8338 - val_loss: 0.2650 - val_accuracy: 0.8191\n",
            "Epoch 3/50\n",
            "448/448 [==============================] - 1s 3ms/step - loss: 0.0450 - accuracy: 0.9114 - val_loss: 0.2357 - val_accuracy: 0.8787\n",
            "Epoch 4/50\n",
            "448/448 [==============================] - 1s 3ms/step - loss: 0.0383 - accuracy: 0.9128 - val_loss: 0.2194 - val_accuracy: 0.8416\n",
            "Epoch 5/50\n",
            "448/448 [==============================] - 1s 2ms/step - loss: 0.0332 - accuracy: 0.9175 - val_loss: 0.1832 - val_accuracy: 0.8632\n",
            "Epoch 6/50\n",
            "448/448 [==============================] - 1s 3ms/step - loss: 0.0252 - accuracy: 0.9148 - val_loss: 0.1487 - val_accuracy: 0.7355\n",
            "Epoch 7/50\n",
            "448/448 [==============================] - 1s 3ms/step - loss: 0.0132 - accuracy: 0.9191 - val_loss: 0.1218 - val_accuracy: 0.8093\n",
            "Epoch 8/50\n",
            "448/448 [==============================] - 1s 2ms/step - loss: 0.0122 - accuracy: 0.9228 - val_loss: 0.1014 - val_accuracy: 0.7719\n",
            "Epoch 9/50\n",
            "448/448 [==============================] - 1s 2ms/step - loss: 0.0125 - accuracy: 0.9276 - val_loss: 0.0841 - val_accuracy: 0.8620\n",
            "Epoch 10/50\n",
            "448/448 [==============================] - 1s 2ms/step - loss: 0.0078 - accuracy: 0.9355 - val_loss: 0.0701 - val_accuracy: 0.8659\n",
            "Epoch 11/50\n",
            "448/448 [==============================] - 1s 2ms/step - loss: 0.0082 - accuracy: 0.9434 - val_loss: 0.0574 - val_accuracy: 0.8907\n",
            "Epoch 12/50\n",
            "448/448 [==============================] - 1s 2ms/step - loss: 0.0056 - accuracy: 0.9480 - val_loss: 0.0522 - val_accuracy: 0.8392\n",
            "Epoch 13/50\n",
            "448/448 [==============================] - 1s 3ms/step - loss: 0.0059 - accuracy: 0.9452 - val_loss: 0.0490 - val_accuracy: 0.9229\n",
            "Epoch 14/50\n",
            "448/448 [==============================] - 1s 3ms/step - loss: 0.0045 - accuracy: 0.9513 - val_loss: 0.0473 - val_accuracy: 0.8846\n",
            "Epoch 15/50\n",
            "448/448 [==============================] - 1s 3ms/step - loss: 0.0061 - accuracy: 0.9485 - val_loss: 0.0431 - val_accuracy: 0.9285\n",
            "Epoch 16/50\n",
            "448/448 [==============================] - 1s 2ms/step - loss: 0.0034 - accuracy: 0.9562 - val_loss: 0.0403 - val_accuracy: 0.7888\n",
            "Epoch 17/50\n",
            "448/448 [==============================] - 1s 2ms/step - loss: 0.0033 - accuracy: 0.9557 - val_loss: 0.0407 - val_accuracy: 0.9040\n",
            "Epoch 18/50\n",
            "448/448 [==============================] - 1s 2ms/step - loss: 0.0046 - accuracy: 0.9537 - val_loss: 0.0380 - val_accuracy: 0.9375\n",
            "Epoch 19/50\n",
            "448/448 [==============================] - 1s 3ms/step - loss: 0.0036 - accuracy: 0.9540 - val_loss: 0.0370 - val_accuracy: 0.9254\n",
            "Epoch 20/50\n",
            "448/448 [==============================] - 1s 3ms/step - loss: 0.0036 - accuracy: 0.9564 - val_loss: 0.0378 - val_accuracy: 0.9354\n",
            "Epoch 21/50\n",
            "448/448 [==============================] - 1s 3ms/step - loss: 0.0032 - accuracy: 0.9459 - val_loss: 0.0359 - val_accuracy: 0.8972\n",
            "Epoch 22/50\n",
            "448/448 [==============================] - 1s 3ms/step - loss: 0.0028 - accuracy: 0.9571 - val_loss: 0.0420 - val_accuracy: 0.8711\n",
            "Epoch 23/50\n",
            "448/448 [==============================] - 1s 3ms/step - loss: 0.0031 - accuracy: 0.9522 - val_loss: 0.0361 - val_accuracy: 0.9340\n",
            "Epoch 24/50\n",
            "448/448 [==============================] - 1s 3ms/step - loss: 0.0035 - accuracy: 0.9557 - val_loss: 0.0356 - val_accuracy: 0.9333\n",
            "Epoch 25/50\n",
            "448/448 [==============================] - 1s 3ms/step - loss: 0.0034 - accuracy: 0.9575 - val_loss: 0.0343 - val_accuracy: 0.9336\n",
            "Epoch 26/50\n",
            "448/448 [==============================] - 1s 3ms/step - loss: 0.0026 - accuracy: 0.9614 - val_loss: 0.0325 - val_accuracy: 0.8710\n",
            "Epoch 27/50\n",
            "448/448 [==============================] - 1s 3ms/step - loss: 0.0030 - accuracy: 0.9600 - val_loss: 0.0332 - val_accuracy: 0.9399\n",
            "Epoch 28/50\n",
            "448/448 [==============================] - 1s 3ms/step - loss: 0.0032 - accuracy: 0.9600 - val_loss: 0.0324 - val_accuracy: 0.7702\n",
            "Epoch 29/50\n",
            "448/448 [==============================] - 1s 3ms/step - loss: 0.0032 - accuracy: 0.9591 - val_loss: 0.0310 - val_accuracy: 0.9318\n",
            "Epoch 30/50\n",
            "448/448 [==============================] - 1s 3ms/step - loss: 0.0041 - accuracy: 0.9581 - val_loss: 0.0307 - val_accuracy: 0.8879\n",
            "Epoch 31/50\n",
            "448/448 [==============================] - 1s 2ms/step - loss: 0.0030 - accuracy: 0.9593 - val_loss: 0.0294 - val_accuracy: 0.9346\n",
            "Epoch 32/50\n",
            "448/448 [==============================] - 1s 2ms/step - loss: 0.0022 - accuracy: 0.9663 - val_loss: 0.0297 - val_accuracy: 0.9252\n",
            "Epoch 33/50\n",
            "448/448 [==============================] - 1s 2ms/step - loss: 0.0022 - accuracy: 0.9621 - val_loss: 0.0287 - val_accuracy: 0.9381\n",
            "Epoch 34/50\n",
            "448/448 [==============================] - 1s 2ms/step - loss: 0.0032 - accuracy: 0.9613 - val_loss: 0.0283 - val_accuracy: 0.7680\n",
            "Epoch 35/50\n",
            "448/448 [==============================] - 1s 3ms/step - loss: 0.0047 - accuracy: 0.9526 - val_loss: 0.0288 - val_accuracy: 0.9301\n",
            "Epoch 36/50\n",
            "448/448 [==============================] - 1s 3ms/step - loss: 0.0022 - accuracy: 0.9623 - val_loss: 0.0279 - val_accuracy: 0.9384\n",
            "Epoch 37/50\n",
            "448/448 [==============================] - 1s 2ms/step - loss: 0.0016 - accuracy: 0.9652 - val_loss: 0.0295 - val_accuracy: 0.8587\n",
            "Epoch 38/50\n",
            "448/448 [==============================] - 1s 2ms/step - loss: 0.0021 - accuracy: 0.9600 - val_loss: 0.0275 - val_accuracy: 0.9312\n",
            "Epoch 39/50\n",
            "448/448 [==============================] - 1s 3ms/step - loss: 0.0021 - accuracy: 0.9587 - val_loss: 0.0295 - val_accuracy: 0.9366\n",
            "Epoch 40/50\n",
            "448/448 [==============================] - 1s 3ms/step - loss: 0.0022 - accuracy: 0.9589 - val_loss: 0.0269 - val_accuracy: 0.9379\n",
            "Epoch 41/50\n",
            "448/448 [==============================] - 1s 3ms/step - loss: 0.0016 - accuracy: 0.9657 - val_loss: 0.0260 - val_accuracy: 0.9371\n",
            "Epoch 42/50\n",
            "448/448 [==============================] - 1s 3ms/step - loss: 0.0020 - accuracy: 0.9656 - val_loss: 0.0262 - val_accuracy: 0.9366\n",
            "Epoch 43/50\n",
            "448/448 [==============================] - 1s 3ms/step - loss: 0.0016 - accuracy: 0.9617 - val_loss: 0.0290 - val_accuracy: 0.9334\n",
            "Epoch 44/50\n",
            "448/448 [==============================] - 1s 3ms/step - loss: 0.0029 - accuracy: 0.9545 - val_loss: 0.0259 - val_accuracy: 0.9616\n",
            "Epoch 45/50\n",
            "448/448 [==============================] - 1s 3ms/step - loss: 0.0025 - accuracy: 0.9600 - val_loss: 0.0244 - val_accuracy: 0.7879\n",
            "Epoch 46/50\n",
            "448/448 [==============================] - 1s 3ms/step - loss: 0.0014 - accuracy: 0.9616 - val_loss: 0.0251 - val_accuracy: 0.9542\n",
            "Epoch 47/50\n",
            "448/448 [==============================] - 1s 3ms/step - loss: 0.0015 - accuracy: 0.9648 - val_loss: 0.0245 - val_accuracy: 0.9606\n",
            "Epoch 48/50\n",
            "448/448 [==============================] - 1s 3ms/step - loss: 0.0016 - accuracy: 0.9601 - val_loss: 0.0283 - val_accuracy: 0.9672\n",
            "Epoch 49/50\n",
            "448/448 [==============================] - 1s 3ms/step - loss: 0.0024 - accuracy: 0.9590 - val_loss: 0.0242 - val_accuracy: 0.9596\n",
            "Epoch 50/50\n",
            "448/448 [==============================] - 1s 3ms/step - loss: 0.0015 - accuracy: 0.9614 - val_loss: 0.0241 - val_accuracy: 0.9737\n"
          ],
          "name": "stdout"
        }
      ]
    },
    {
      "cell_type": "code",
      "metadata": {
        "colab": {
          "base_uri": "https://localhost:8080/",
          "height": 675
        },
        "id": "zse-gLyxtp6U",
        "outputId": "e4387bb5-2027-4670-915b-7f44c3de28f1"
      },
      "source": [
        "#Normal detection performance\n",
        "losses = get_losses(autoencoder, normal_traffic)\n",
        "thresholds = confidence_intervals(losses,0.95)\n",
        "threshold = thresholds[1]\n",
        "train_pred = predictAnomaly(autoencoder,normal_traffic,threshold)\n",
        "test_pred = predictAnomaly(autoencoder,dos_traffic,threshold)\n",
        "Normal_Label = [0] * len(train_pred)\n",
        "Dos_Label = [1] * len(test_pred)\n",
        "performance(Normal_Label,train_pred )\n"
      ],
      "execution_count": null,
      "outputs": [
        {
          "output_type": "stream",
          "text": [
            "Accurary :  0.9615357142857143\n",
            "F1 Score :  0.0\n",
            "Classification report\n",
            "              precision    recall  f1-score   support\n",
            "\n",
            "           0       0.96      1.00      0.98     53846\n",
            "           1       0.00      0.00      0.00      2154\n",
            "\n",
            "    accuracy                           0.96     56000\n",
            "   macro avg       0.48      0.50      0.49     56000\n",
            "weighted avg       0.92      0.96      0.94     56000\n",
            "\n"
          ],
          "name": "stdout"
        },
        {
          "output_type": "display_data",
          "data": {
            "image/png": "[encoded data removed]",
            "text/plain": [
              "<Figure size 720x504 with 2 Axes>"
            ]
          },
          "metadata": {
            "tags": []
          }
        }
      ]
    },
    {
      "cell_type": "code",
      "metadata": {
        "colab": {
          "base_uri": "https://localhost:8080/",
          "height": 675
        },
        "id": "qMEpR2Zatrf5",
        "outputId": "93e693f4-07a4-40d3-851a-fd14ddd3ac68"
      },
      "source": [
        "#Anomaly detection performance\n",
        "performance(Dos_Label,test_pred )"
      ],
      "execution_count": null,
      "outputs": [
        {
          "output_type": "stream",
          "text": [
            "Accurary :  0.8056914546640574\n",
            "F1 Score :  0.892391058929781\n",
            "Classification report\n",
            "              precision    recall  f1-score   support\n",
            "\n",
            "           0       0.00      0.00      0.00      2383\n",
            "           1       0.81      1.00      0.89      9881\n",
            "\n",
            "    accuracy                           0.81     12264\n",
            "   macro avg       0.40      0.50      0.45     12264\n",
            "weighted avg       0.65      0.81      0.72     12264\n",
            "\n"
          ],
          "name": "stdout"
        },
        {
          "output_type": "display_data",
          "data": {
            "image/png": "[encoded data removed]",
            "text/plain": [
              "<Figure size 720x504 with 2 Axes>"
            ]
          },
          "metadata": {
            "tags": []
          }
        }
      ]
    },
    {
      "cell_type": "markdown",
      "metadata": {
        "id": "5wvjhDQdLtuS"
      },
      "source": [
        "***B) Supervised machine learning model***\n",
        "\n",
        "In this part we used a supervised machine learning model to check the suspicious data (flow) that was passed by the unspervised DL model for further investigation to inform the controller with the proper action.\n",
        "\n",
        "**Choosing best algorithm for the model**\n",
        "\n",
        "In this part we try to find the best algorithm to be used so we tried many different algorithms such as: Gradient boost, Random forest, decision tree, a deep learning model, and some others. we then compared their efficiency and run time too because we need the model to be able to detect attacks fast and accurately. You can take a look at the differenet tries below along with their results.\n"
      ]
    },
    {
      "cell_type": "code",
      "metadata": {
        "colab": {
          "base_uri": "https://localhost:8080/",
          "height": 783
        },
        "id": "t8NRA9SfOBWe",
        "outputId": "949c181f-6105-45b4-8619-150d2688674e"
      },
      "source": [
        "# Machine learning algorithm selection\n",
        "X_train, X_test, y_train, y_test = train_test_split(Supervised_data.iloc[:,:-1],Supervised_data.iloc[:,-1], test_size=0.2, random_state=42,shuffle=True)\n",
        "\n",
        "model_RF = RandomForestClassifier(n_estimators = 10, criterion = 'entropy', random_state = 0 )\n",
        "model_DT = DecisionTreeClassifier(criterion = 'entropy', random_state = 0)\n",
        "model_LR = LogisticRegression(random_state = 0)\n",
        "model_NB = GaussianNB()\n",
        "model_GB = GradientBoostingClassifier(n_estimators=100, learning_rate=0.01, max_depth=5, random_state=0)\n",
        "\n",
        "\n",
        "#Normalization\n",
        "#from sklearn.preprocessing import MinMaxScaler\n",
        "for ee in X_train.columns:\n",
        "# fit on training data column\n",
        "  scale = MinMaxScaler().fit(X_train[[ee]])  \n",
        "# transform the training data column\n",
        "  X_train[ee] = scale.transform(X_train[[ee]])      \n",
        "# transform the testing data column\n",
        "  X_test[ee] = scale.transform(X_test[[ee]])\n",
        "\n",
        "model_list = [model_RF , model_DT , model_LR , model_NB ,model_GB ]\n",
        "model_names = ['Random Forest', 'Decision Tree' ,'Logistic Regression','Naive Bayes','Gradient Boost']\n",
        "\n",
        "\n",
        "for model in model_list:\n",
        "  model.fit(X_train,y_train)\n",
        "  print(model_names[model_list.index(model)])\n",
        "  print(\"Train Accuracy : \",model.score(X_train, y_train) *100,\"%\")\n",
        "  print(\"Test Accuracy : \",model.score(X_test, y_test) *100,\"%\")\n",
        "\n",
        "  start = time.time()\n",
        "  y_pred = model.predict(X_test) \n",
        "  finish = time.time()\n",
        "  print ('Testing time = ',finish - start , 'seconds')\n",
        "  cm = confusion_matrix(y_test, y_pred)\n",
        "  print('Confusion Matrix')\n",
        "  print(cm)\n",
        "  print('----------------------------------------------------------------------')"
      ],
      "execution_count": null,
      "outputs": [
        {
          "output_type": "stream",
          "text": [
            "Random Forest\n",
            "Train Accuracy :  99.9687013111001 %\n",
            "Test Accuracy :  99.56398410264386 %\n",
            "Testing time =  0.5556495189666748 seconds\n",
            "Confusion Matrix\n",
            "[[442763    906]\n",
            " [  1309  63031]]\n",
            "----------------------------------------------------------------------\n",
            "Decision Tree\n",
            "Train Accuracy :  99.99576778735 %\n",
            "Test Accuracy :  99.57894446751928 %\n",
            "Testing time =  0.05222773551940918 seconds\n",
            "Confusion Matrix\n",
            "[[442589   1080]\n",
            " [  1059  63281]]\n",
            "----------------------------------------------------------------------\n",
            "Logistic Regression\n",
            "Train Accuracy :  87.5467634891936 %\n",
            "Test Accuracy :  87.53270119230172 %\n",
            "Testing time =  0.015947341918945312 seconds\n",
            "Confusion Matrix\n",
            "[[442430   1239]\n",
            " [ 62096   2244]]\n",
            "----------------------------------------------------------------------\n",
            "Naive Bayes\n",
            "Train Accuracy :  86.99318023222052 %\n",
            "Test Accuracy :  87.00377355519292 %\n",
            "Testing time =  0.11585617065429688 seconds\n",
            "Confusion Matrix\n",
            "[[390868  52801]\n",
            " [ 13221  51119]]\n",
            "----------------------------------------------------------------------\n",
            "Gradient Boost\n",
            "Train Accuracy :  97.45215877293391 %\n",
            "Test Accuracy :  97.45161995161503 %\n",
            "Testing time =  0.9764504432678223 seconds\n",
            "Confusion Matrix\n",
            "[[443485    184]\n",
            " [ 12762  51578]]\n",
            "----------------------------------------------------------------------\n"
          ],
          "name": "stdout"
        },
        {
          "output_type": "execute_result",
          "data": {
            "application/vnd.google.colaboratory.intrinsic+json": {
              "type": "string"
            },
            "text/plain": [
              "'model = DecisionTreeClassifier(criterion = \\'entropy\\', random_state = 0)\\n\\n#Normalization\\n\\nfor ee in X_train.columns:\\n# fit on training data column\\n  scale = MinMaxScaler().fit(X_train[[ee]])  \\n# transform the training data column\\n  X_train[ee] = scale.transform(X_train[[ee]])      \\n# transform the testing data column\\n  X_test[ee] = scale.transform(X_test[[ee]])\\n\\n\\nmodel.fit(X_train,y_train)\\n\\nprint(\"Train Accuracy : \",model.score(X_train, y_train) *100,\"%\")\\nprint(\"Test Accuracy : \",model.score(X_test, y_test) *100,\"%\")\\n\\n# Measuring test time\\nstart = time.time()\\ny_pred = model.predict(X_test) \\nfinish = time.time()\\nprint (\\'Test time >>> \\', finish - start , \\'seconds\\')\\ncm = confusion_matrix(y_test, y_pred)\\nprint(cm)'"
            ]
          },
          "metadata": {
            "tags": []
          },
          "execution_count": 12
        }
      ]
    },
    {
      "cell_type": "markdown",
      "metadata": {
        "id": "dumFWBa3SIZP"
      },
      "source": [
        "**Choosing best activation function for the deep learning model**\n",
        "\n",
        "Choosing the best activation function in your model is an important step. There are many activation functions that can be used in deep learning such as: relu,tanh, and sigmoid. That's why we used a (5-fold cross validation) to help us determine which activation function is best.\n",
        "The model itsef is rather simple. It consists of 10-layers and each layer has 10 neurons. We also used (Adam) optimization algorithm and regularization."
      ]
    },
    {
      "cell_type": "code",
      "metadata": {
        "id": "LP3cJ5H4QcMl",
        "colab": {
          "base_uri": "https://localhost:8080/"
        },
        "outputId": "390ae8b1-5ddc-4901-a282-2881ef510ea8"
      },
      "source": [
        "#Deep learning model with 5-fold cross validation\n",
        "dfs = []\n",
        "kf = KFold(n_splits = 5, shuffle=True, random_state=123)\n",
        "i = 1\n",
        "\n",
        "accu_mat = []\n",
        "time_mat = []\n",
        "\n",
        "features = []\n",
        "for rrr in Supervised_data.columns[:-1]:\n",
        "    features.append(rrr)\n",
        "\n",
        "activ_list = ['relu','tanh','sigmoid']\n",
        "\n",
        "for kkk in activ_list :\n",
        "  # initialize the model\n",
        "  tf.keras.backend.clear_session()\n",
        "  model = tf.keras.models.Sequential()\n",
        "  model.add(tf.keras.Input(shape=(None,21)))\n",
        "  model.add(tf.keras.layers.Dense(10, activation= kkk ,activity_regularizer=regularizers.l1(1e-4)))\n",
        "  model.add(tf.keras.layers.Dense(10, activation= kkk ,activity_regularizer=regularizers.l1(1e-4)))\n",
        "  model.add(tf.keras.layers.Dense(10, activation= kkk ,activity_regularizer=regularizers.l1(1e-4)))\n",
        "  model.add(tf.keras.layers.Dense(10, activation= kkk ,activity_regularizer=regularizers.l1(1e-4)))\n",
        "  model.add(tf.keras.layers.Dense(10, activation= kkk ,activity_regularizer=regularizers.l1(1e-4)))\n",
        "  model.add(tf.keras.layers.Dense(10, activation= kkk ,activity_regularizer=regularizers.l1(1e-4)))\n",
        "  model.add(tf.keras.layers.Dense(10, activation= kkk ,activity_regularizer=regularizers.l1(1e-4)))\n",
        "  model.add(tf.keras.layers.Dense(10, activation= kkk ,activity_regularizer=regularizers.l1(1e-4)))\n",
        "  model.add(tf.keras.layers.Dense(10, activation= kkk ,activity_regularizer=regularizers.l1(1e-4)))\n",
        "\n",
        "  model.add(tf.keras.layers.Dense(1, activation='sigmoid'))\n",
        "\n",
        "  \n",
        "  \n",
        "  opt = keras.optimizers.Adam(learning_rate=0.001)\n",
        "  model.compile(optimizer=opt, loss='mean_absolute_error',metrics=[\"accuracy\"])\n",
        "  accu_mat.append(kkk)\n",
        "  time_mat.append(kkk)\n",
        "\n",
        "  train_index = 0\n",
        "  test_index = 0\n",
        "  print(\"\"\"\n",
        "  #\n",
        "  #\n",
        "  \"\"\")\n",
        "  print('----------------------------------------------------------------------')\n",
        "  print('The activation function used is:',kkk,'function')\n",
        "\n",
        "  for train_index, test_index in kf.split(Supervised_data):\n",
        "    X_train = Supervised_data.iloc[train_index].loc[:, features]\n",
        "    X_test = Supervised_data.iloc[test_index].loc[:, features]\n",
        "    y_train = Supervised_data.iloc[train_index].loc[:,'label']\n",
        "    y_test = Supervised_data.loc[test_index].loc[:,'label']\n",
        "\n",
        "    #Normalization\n",
        "    #from sklearn.preprocessing import MinMaxScaler\n",
        "    for ee in X_train.columns:\n",
        "        \n",
        "        # fit on training data column\n",
        "        scale = MinMaxScaler().fit(X_train[[ee]])\n",
        "        \n",
        "        # transform the training data column\n",
        "        X_train[ee] = scale.transform(X_train[[ee]])\n",
        "        \n",
        "        # transform the testing data column\n",
        "        X_test[ee] = scale.transform(X_test[[ee]])\n",
        "     \n",
        "\n",
        "    \n",
        "    model.fit(X_train,y_train , epochs = 1 , batch_size= 1024  ) #Training the model\n",
        "    print('Evaluating the model')\n",
        "    model.evaluate(X_test, y_test)\n",
        "    start = time.time()\n",
        "    y_pred = model.predict(X_test) \n",
        "    finish = time.time()\n",
        "    print ('Testing time = ',finish - start , 'seconds')\n",
        "    acc_arr = []\n",
        "\n",
        "    for j in y_pred:\n",
        "        if j > 0.5:\n",
        "            acc_arr.append(1)\n",
        "        else:\n",
        "            acc_arr.append(0)\n",
        "                \n",
        "    cm = 0\n",
        "    cm = confusion_matrix(y_test, acc_arr)\n",
        "    print('Confusion matrix')\n",
        "    print(cm)\n",
        "    gg = 0\n",
        "    gg = (cm[0,0]+cm[1,1])/(cm[0,0]+cm[1,1]+(cm[0,1]+cm[1,0])) *100\n",
        "    accu_mat.append(gg)\n",
        "    time_mat.append(finish - start)\n",
        "    \n",
        "\n",
        "    # how many occurances appear in the train set\n",
        "    s_train = data.iloc[train_index].loc[:,'label'].value_counts()\n",
        "    s_train.name = f\"train {i}\"\n",
        "    s_test = data.iloc[test_index].loc[:,'label'].value_counts()\n",
        "    s_test.name = f\"test {i}\"\n",
        "    df = pd.concat([s_train, s_test], axis=1, sort=False)\n",
        "    df[\"|\"] = \"|\"\n",
        "    dfs.append(df)\n",
        "    \n",
        "    i += 1\n",
        "    \n",
        "print(\"Accuracy matrix\")\n",
        "print(accu_mat)\n",
        "print('---------------------------------------------------------------------------------------------------------------------------------------------')\n",
        "print('Time matrix')\n",
        "print(time_mat)"
      ],
      "execution_count": null,
      "outputs": [
        {
          "output_type": "stream",
          "text": [
            "WARNING:tensorflow:Please add `keras.layers.InputLayer` instead of `keras.Input` to Sequential model. `keras.Input` is intended to be used by Functional model.\n",
            "\n",
            "  #\n",
            "  #\n",
            "  \n",
            "----------------------------------------------------------------------\n",
            "The activation function used is: relu function\n",
            "WARNING:tensorflow:Model was constructed with shape (None, None, 21) for input KerasTensor(type_spec=TensorSpec(shape=(None, None, 21), dtype=tf.float32, name='input_1'), name='input_1', description=\"created by layer 'input_1'\"), but it was called on an input with incompatible shape (None, 21).\n",
            "WARNING:tensorflow:Model was constructed with shape (None, None, 21) for input KerasTensor(type_spec=TensorSpec(shape=(None, None, 21), dtype=tf.float32, name='input_1'), name='input_1', description=\"created by layer 'input_1'\"), but it was called on an input with incompatible shape (None, 21).\n",
            "1985/1985 [==============================] - 8s 3ms/step - loss: 0.1172 - accuracy: 0.9058\n",
            "Evaluating the model\n",
            "WARNING:tensorflow:Model was constructed with shape (None, None, 21) for input KerasTensor(type_spec=TensorSpec(shape=(None, None, 21), dtype=tf.float32, name='input_1'), name='input_1', description=\"created by layer 'input_1'\"), but it was called on an input with incompatible shape (None, 21).\n",
            "15876/15876 [==============================] - 16s 1ms/step - loss: 0.0686 - accuracy: 0.9662\n",
            "WARNING:tensorflow:Model was constructed with shape (None, None, 21) for input KerasTensor(type_spec=TensorSpec(shape=(None, None, 21), dtype=tf.float32, name='input_1'), name='input_1', description=\"created by layer 'input_1'\"), but it was called on an input with incompatible shape (None, 21).\n",
            "Testing time =  9.220144271850586 seconds\n",
            "Confusion matrix\n",
            "[[441724   1845]\n",
            " [ 15340  49100]]\n",
            "1985/1985 [==============================] - 7s 3ms/step - loss: 0.0538 - accuracy: 0.9672\n",
            "Evaluating the model\n",
            "15876/15876 [==============================] - 16s 1ms/step - loss: 0.0439 - accuracy: 0.9683\n",
            "Testing time =  10.317735433578491 seconds\n",
            "Confusion matrix\n",
            "[[442223   1224]\n",
            " [ 14864  49698]]\n",
            "1985/1985 [==============================] - 7s 3ms/step - loss: 0.0361 - accuracy: 0.9673\n",
            "Evaluating the model\n",
            "15876/15876 [==============================] - 16s 1ms/step - loss: 0.0325 - accuracy: 0.9691\n",
            "Testing time =  10.320029497146606 seconds\n",
            "Confusion matrix\n",
            "[[441795   2053]\n",
            " [ 13643  50518]]\n",
            "1985/1985 [==============================] - 7s 3ms/step - loss: 0.0323 - accuracy: 0.9690\n",
            "Evaluating the model\n",
            "15876/15876 [==============================] - 16s 1ms/step - loss: 0.0313 - accuracy: 0.9699\n",
            "Testing time =  9.141189575195312 seconds\n",
            "Confusion matrix\n",
            "[[442342   1637]\n",
            " [ 13673  50356]]\n",
            "1985/1985 [==============================] - 7s 3ms/step - loss: 0.0341 - accuracy: 0.9670\n",
            "Evaluating the model\n",
            "15876/15876 [==============================] - 16s 995us/step - loss: 0.0333 - accuracy: 0.9676\n",
            "Testing time =  9.203631401062012 seconds\n",
            "Confusion matrix\n",
            "[[442677   1240]\n",
            " [ 15198  48893]]\n",
            "WARNING:tensorflow:Please add `keras.layers.InputLayer` instead of `keras.Input` to Sequential model. `keras.Input` is intended to be used by Functional model.\n",
            "\n",
            "  #\n",
            "  #\n",
            "  \n",
            "----------------------------------------------------------------------\n",
            "The activation function used is: tanh function\n",
            "WARNING:tensorflow:Model was constructed with shape (None, None, 21) for input KerasTensor(type_spec=TensorSpec(shape=(None, None, 21), dtype=tf.float32, name='input_1'), name='input_1', description=\"created by layer 'input_1'\"), but it was called on an input with incompatible shape (None, 21).\n",
            "WARNING:tensorflow:Model was constructed with shape (None, None, 21) for input KerasTensor(type_spec=TensorSpec(shape=(None, None, 21), dtype=tf.float32, name='input_1'), name='input_1', description=\"created by layer 'input_1'\"), but it was called on an input with incompatible shape (None, 21).\n",
            "1985/1985 [==============================] - 9s 4ms/step - loss: 0.1359 - accuracy: 0.8730\n",
            "Evaluating the model\n",
            "WARNING:tensorflow:Model was constructed with shape (None, None, 21) for input KerasTensor(type_spec=TensorSpec(shape=(None, None, 21), dtype=tf.float32, name='input_1'), name='input_1', description=\"created by layer 'input_1'\"), but it was called on an input with incompatible shape (None, 21).\n",
            "15876/15876 [==============================] - 26s 2ms/step - loss: 0.1290 - accuracy: 0.8732\n",
            "WARNING:tensorflow:Model was constructed with shape (None, None, 21) for input KerasTensor(type_spec=TensorSpec(shape=(None, None, 21), dtype=tf.float32, name='input_1'), name='input_1', description=\"created by layer 'input_1'\"), but it was called on an input with incompatible shape (None, 21).\n",
            "Testing time =  10.426466941833496 seconds\n",
            "Confusion matrix\n",
            "[[443569      0]\n",
            " [ 64394     46]]\n",
            "1985/1985 [==============================] - 7s 3ms/step - loss: 0.1271 - accuracy: 0.8749\n",
            "Evaluating the model\n",
            "15876/15876 [==============================] - 16s 1ms/step - loss: 0.1179 - accuracy: 0.8850\n",
            "Testing time =  10.31135869026184 seconds\n",
            "Confusion matrix\n",
            "[[440751   2696]\n",
            " [ 55719   8843]]\n",
            "1985/1985 [==============================] - 6s 3ms/step - loss: 0.1158 - accuracy: 0.8868\n",
            "Evaluating the model\n",
            "15876/15876 [==============================] - 16s 1ms/step - loss: 0.1156 - accuracy: 0.8867\n",
            "Testing time =  10.319173097610474 seconds\n",
            "Confusion matrix\n",
            "[[441981   1867]\n",
            " [ 55704   8457]]\n",
            "1985/1985 [==============================] - 7s 3ms/step - loss: 0.1261 - accuracy: 0.8757\n",
            "Evaluating the model\n",
            "15876/15876 [==============================] - 16s 1ms/step - loss: 0.1269 - accuracy: 0.8742\n",
            "Testing time =  9.36608624458313 seconds\n",
            "Confusion matrix\n",
            "[[443941     38]\n",
            " [ 63892    137]]\n",
            "1985/1985 [==============================] - 6s 3ms/step - loss: 0.1257 - accuracy: 0.8757\n",
            "Evaluating the model\n",
            "15876/15876 [==============================] - 16s 1ms/step - loss: 0.1221 - accuracy: 0.8794\n",
            "Testing time =  10.321223258972168 seconds\n",
            "Confusion matrix\n",
            "[[442118   1799]\n",
            " [ 59467   4624]]\n",
            "WARNING:tensorflow:Please add `keras.layers.InputLayer` instead of `keras.Input` to Sequential model. `keras.Input` is intended to be used by Functional model.\n",
            "\n",
            "  #\n",
            "  #\n",
            "  \n",
            "----------------------------------------------------------------------\n",
            "The activation function used is: sigmoid function\n",
            "WARNING:tensorflow:Model was constructed with shape (None, None, 21) for input KerasTensor(type_spec=TensorSpec(shape=(None, None, 21), dtype=tf.float32, name='input_1'), name='input_1', description=\"created by layer 'input_1'\"), but it was called on an input with incompatible shape (None, 21).\n",
            "WARNING:tensorflow:Model was constructed with shape (None, None, 21) for input KerasTensor(type_spec=TensorSpec(shape=(None, None, 21), dtype=tf.float32, name='input_1'), name='input_1', description=\"created by layer 'input_1'\"), but it was called on an input with incompatible shape (None, 21).\n",
            "1985/1985 [==============================] - 7s 3ms/step - loss: 0.1383 - accuracy: 0.8736\n",
            "Evaluating the model\n",
            "WARNING:tensorflow:Model was constructed with shape (None, None, 21) for input KerasTensor(type_spec=TensorSpec(shape=(None, None, 21), dtype=tf.float32, name='input_1'), name='input_1', description=\"created by layer 'input_1'\"), but it was called on an input with incompatible shape (None, 21).\n",
            "15876/15876 [==============================] - 16s 1ms/step - loss: 0.1300 - accuracy: 0.8732\n",
            "WARNING:tensorflow:Model was constructed with shape (None, None, 21) for input KerasTensor(type_spec=TensorSpec(shape=(None, None, 21), dtype=tf.float32, name='input_1'), name='input_1', description=\"created by layer 'input_1'\"), but it was called on an input with incompatible shape (None, 21).\n",
            "Testing time =  9.597848176956177 seconds\n",
            "Confusion matrix\n",
            "[[443569      0]\n",
            " [ 64440      0]]\n",
            "1985/1985 [==============================] - 6s 3ms/step - loss: 0.1287 - accuracy: 0.8737\n",
            "Evaluating the model\n",
            "15876/15876 [==============================] - 16s 1ms/step - loss: 0.1290 - accuracy: 0.8729\n",
            "Testing time =  10.320821762084961 seconds\n",
            "Confusion matrix\n",
            "[[443447      0]\n",
            " [ 64562      0]]\n",
            "1985/1985 [==============================] - 7s 3ms/step - loss: 0.1281 - accuracy: 0.8735\n",
            "Evaluating the model\n",
            "15876/15876 [==============================] - 17s 1ms/step - loss: 0.1276 - accuracy: 0.8737\n",
            "Testing time =  9.362328052520752 seconds\n",
            "Confusion matrix\n",
            "[[443848      0]\n",
            " [ 64161      0]]\n",
            "1985/1985 [==============================] - 6s 3ms/step - loss: 0.1277 - accuracy: 0.8734\n",
            "Evaluating the model\n",
            "15876/15876 [==============================] - 17s 1ms/step - loss: 0.1270 - accuracy: 0.8740\n",
            "Testing time =  9.241068363189697 seconds\n",
            "Confusion matrix\n",
            "[[443979      0]\n",
            " [ 64029      0]]\n",
            "1985/1985 [==============================] - 6s 3ms/step - loss: 0.1273 - accuracy: 0.8734\n",
            "Evaluating the model\n",
            "15876/15876 [==============================] - 16s 1ms/step - loss: 0.1268 - accuracy: 0.8738\n",
            "Testing time =  9.351009607315063 seconds\n",
            "Confusion matrix\n",
            "[[443917      0]\n",
            " [ 64091      0]]\n",
            "Accuracy matrix\n",
            "['relu', 96.61718591599755, 96.83312697215995, 96.91029095941214, 96.98626793278846, 96.7642241854459, 'tanh', 87.32424031857703, 88.50118797107925, 88.66732675995898, 87.41555251098407, 87.93995370151652, 'sigmoid', 87.31518536088927, 87.2911700383261, 87.37010564773459, 87.39606462890347, 87.3838600966914]\n",
            "---------------------------------------------------------------------------------------------------------------------------------------------\n",
            "Time matrix\n",
            "['relu', 9.220144271850586, 10.317735433578491, 10.320029497146606, 9.141189575195312, 9.203631401062012, 'tanh', 10.426466941833496, 10.31135869026184, 10.319173097610474, 9.36608624458313, 10.321223258972168, 'sigmoid', 9.597848176956177, 10.320821762084961, 9.362328052520752, 9.241068363189697, 9.351009607315063]\n"
          ],
          "name": "stdout"
        }
      ]
    },
    {
      "cell_type": "markdown",
      "metadata": {
        "id": "OuhJ5tdNO6ZE"
      },
      "source": [
        "# ***Results & Conclusion***\n",
        "\n"
      ]
    },
    {
      "cell_type": "markdown",
      "metadata": {
        "id": "6IXD0_jYbUbu"
      },
      "source": [
        "For training the model we used the UNSW-NB15 data set, we developed a two-step model for attack detection; First step is auto encoder to detect anomalies in the flow of new traffic and the a second step is a supervised decision tree classifier to further investigate the anomalies detected by the first step and decide whether the traffic is normal or attack.\n",
        "8.1 Model Performance\n",
        "The performance of the model was as following:\n",
        "\n",
        "●\tAuto encoder performance\n",
        "\n",
        "    Normal traffic detection Accuracy\t96%\n",
        "\n",
        "    DDoS traffic detection Accuracy\t78%\n",
        "\n",
        "●\tDecision tree performance\n",
        "\n",
        "    Training Accuracy\t99.95%\n",
        "\n",
        "    Test Accuracy\t99.57%\n",
        "\n",
        "    Test time\t0.0522 ms\n"
      ]
    },
    {
      "cell_type": "markdown",
      "metadata": {
        "id": "dXRulpOpJW0R"
      },
      "source": [
        "# ***Feature Selection***(extra)"
      ]
    },
    {
      "cell_type": "markdown",
      "metadata": {
        "id": "Ls1M8eLhJ7Ke"
      },
      "source": [
        "In this section we wanted to share with you two of the feature selection methods that we worked on. Unfortunately, as i stated before we just couldn't use them in our main project because we had to use certain features that the SDN controller team managed to collect at the time.\n"
      ]
    },
    {
      "cell_type": "code",
      "metadata": {
        "id": "MS-butMSp9M0"
      },
      "source": [
        "# Feature selection methods\n",
        "# First Method of Feature Selection implemented in sklearn\n",
        "from sklearn.feature_selection import SelectKBest\n",
        "from sklearn.feature_selection import chi2\n",
        "from sklearn.feature_selection import mutual_info_classif\n",
        "from sklearn.feature_selection import f_classif\n",
        "\n",
        "\n",
        "fs = SelectKBest(score_func=f_classif, k=20)#'k' value indicate the number of feature you want after selection\n",
        "fs.fit(abs(train.iloc[:,:-1]), train.loc[:,'label']) # giving Features and labels to see which feature effect labeling\n",
        "selected_features1 = list(train.columns[fs.get_support(indices=True)]) # list of chose Features\n",
        "\n",
        "#-------------------------------------------------------------------------------\n",
        "# Second Method based on P-value\n",
        "# the method  simply takes the mean of a numeric feature when the label is 0, and the mean when the label is 1 \n",
        "# then it subtracte the two means, if the output is close to 0, this means that the feature is NOT significant \n",
        "# to predicting our label, in contrast, if the value is high this will make the feature crucial to us \n",
        "\n",
        "def ztest(feature):\n",
        "    \n",
        "    mean = normal[feature].mean()\n",
        "    std = fraud[feature].std()\n",
        "    zScore = (fraud[feature].mean() - mean) / (std/np.sqrt(sample_size))\n",
        "    \n",
        "    return zScore\n",
        "\n",
        "columns= train.drop(['label'], axis=1).columns\n",
        "normal=  train[train.label==0]\n",
        "fraud=   train[train.label==1]\n",
        "sample_size=len(fraud)\n",
        "selected_features2=[] # list of chose Features from second method\n",
        "critical_value=20\n",
        "\n",
        "for i in columns:\n",
        "    \n",
        "    z_vavlue=ztest(i)\n",
        "    \n",
        "    if( abs(z_vavlue) >= critical_value):    \n",
        "        #print(i,\" is statistically significant\") #Reject Null hypothesis. i.e. H0\n",
        "        selected_features2.append(i)\n",
        "\n"
      ],
      "execution_count": null,
      "outputs": []
    }
  ]
}